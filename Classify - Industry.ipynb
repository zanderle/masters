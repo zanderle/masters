{
 "cells": [
  {
   "cell_type": "markdown",
   "metadata": {},
   "source": [
    "# Import data"
   ]
  },
  {
   "cell_type": "code",
   "execution_count": 2,
   "metadata": {
    "collapsed": true
   },
   "outputs": [],
   "source": [
    "import json\n",
    "\n",
    "with open('companies_cross.json', 'r') as f:\n",
    "    companies = json.load(f)"
   ]
  },
  {
   "cell_type": "code",
   "execution_count": 3,
   "metadata": {
    "collapsed": true
   },
   "outputs": [],
   "source": [
    "from collections import Counter\n",
    "\n",
    "# Let's use only companies that we currently have website of (at least some pages)\n",
    "companies = [c for c in companies if c.get('path_to')]\n",
    "\n",
    "# Let's also limit the number of sites (because this is not cleaned yet)\n",
    "companies = [c for c in companies if c.get('current_site_count', 0) < 100]\n",
    "\n",
    "# Let's use only well represented industries\n",
    "industries = Counter([c['industry'] for c in companies])\n",
    "companies = [c for c in companies if industries[c.get('industry')] > 500]"
   ]
  },
  {
   "cell_type": "markdown",
   "metadata": {},
   "source": [
    "### Some helper methods"
   ]
  },
  {
   "cell_type": "code",
   "execution_count": 4,
   "metadata": {
    "collapsed": true
   },
   "outputs": [],
   "source": [
    "import os\n",
    "\n",
    "import logging\n",
    "\n",
    "# set root logger level\n",
    "root_logger = logging.getLogger()\n",
    "root_logger.setLevel(logging.DEBUG)\n",
    "\n",
    "# setup custom logger\n",
    "logger = logging.getLogger(__name__)\n",
    "handler = logging.FileHandler('extract_features.log')\n",
    "handler.setLevel(logging.INFO)\n",
    "logger.addHandler(handler)\n",
    "\n",
    "\n",
    "def get_texts_for_domain(path, file_name):\n",
    "    text_file = os.path.join(path, file_name)\n",
    "    if not os.path.exists(text_file):\n",
    "        text = None\n",
    "        text_file = '/dev/null'\n",
    "    else:\n",
    "        with open(text_file, 'r') as f:\n",
    "            text = f.read()\n",
    "    return text, text_file\n",
    "\n",
    "\n",
    "def get_full_text(path):\n",
    "    return get_texts_for_domain(path, 'full_texts.txt')\n",
    "\n",
    "\n",
    "def get_nav_text(path):\n",
    "    return get_texts_for_domain(path, 'nav_menu.txt')\n",
    "\n",
    "\n",
    "def get_meta_descriptions_text(path):\n",
    "    return get_texts_for_domain(path, 'descriptions.txt')\n",
    "\n",
    "\n",
    "def get_meta_keywords_text(path):\n",
    "    return get_texts_for_domain(path, 'keywords.txt')\n",
    "\n",
    "\n",
    "def get_titles_text(path):\n",
    "    return get_texts_for_domain(path, 'titles.txt')"
   ]
  },
  {
   "cell_type": "markdown",
   "metadata": {},
   "source": [
    "# Classify"
   ]
  },
  {
   "cell_type": "markdown",
   "metadata": {},
   "source": [
    "## Prepare pipeline"
   ]
  },
  {
   "cell_type": "code",
   "execution_count": 5,
   "metadata": {
    "collapsed": true
   },
   "outputs": [],
   "source": [
    "# Create transformers\n",
    "from sklearn.preprocessing import FunctionTransformer\n",
    "from tqdm import tqdm\n",
    "\n",
    "def extract_from_company(companies, func):\n",
    "    paths = []\n",
    "    for company in tqdm(companies):\n",
    "        text, path = func(company['path_to'])\n",
    "        paths.append(path)\n",
    "    return paths\n",
    "\n",
    "def get_full_text_from_company(companies):\n",
    "    return extract_from_company(companies, get_full_text)\n",
    "\n",
    "def get_nav_menus_from_company(companies):\n",
    "    return extract_from_company(companies, get_nav_text)\n",
    "\n",
    "def get_descriptions_from_company(companies):\n",
    "    return extract_from_company(companies, get_meta_descriptions_text)\n",
    "\n",
    "def get_titles_from_company(companies):\n",
    "    return extract_from_company(companies, get_titles_text)\n",
    "\n",
    "def get_keywords_from_company(companies):\n",
    "    return extract_from_company(companies, get_meta_keywords_text)\n",
    "\n",
    "\n",
    "full_text_transformer = FunctionTransformer(get_full_text_from_company, validate=False)\n",
    "nav_menus_transformer = FunctionTransformer(get_nav_menus_from_company, validate=False)\n",
    "descriptions_transformer = FunctionTransformer(get_descriptions_from_company, validate=False)\n",
    "titles_transformer = FunctionTransformer(get_titles_from_company, validate=False)\n",
    "keywords_transformer = FunctionTransformer(get_keywords_from_company, validate=False)"
   ]
  },
  {
   "cell_type": "code",
   "execution_count": 6,
   "metadata": {
    "collapsed": false
   },
   "outputs": [],
   "source": [
    "from sklearn.feature_extraction.text import HashingVectorizer, TfidfTransformer, TfidfVectorizer\n",
    "from sklearn.linear_model import SGDClassifier\n",
    "from sklearn.decomposition import LatentDirichletAllocation\n",
    "from sklearn.pipeline import Pipeline, FeatureUnion\n",
    "from numpy import concatenate\n",
    "\n",
    "hv = HashingVectorizer(non_negative=True, input='filename')\n",
    "tfv = TfidfVectorizer(input='filename', max_features=3000)\n",
    "tf_transformer = TfidfTransformer()\n",
    "clf = SGDClassifier(loss='hinge', penalty='l2', n_iter=10, alpha=0.001, n_jobs=10)#, class_weight='balanced')\n",
    "clf2 = SGDClassifier(loss='hinge', n_iter=10, alpha=0.001, n_jobs=10)#, class_weight='balanced')\n",
    "lda = LatentDirichletAllocation(n_topics=100, learning_method='batch', max_iter=5, n_jobs=5, learning_offset=50.)\n",
    "\n",
    "pipeline_elements = [('HV', hv), ('tfid', tf_transformer), ('svc', clf)]\n",
    "pipe = Pipeline(pipeline_elements)"
   ]
  },
  {
   "cell_type": "code",
   "execution_count": 489,
   "metadata": {
    "collapsed": false
   },
   "outputs": [],
   "source": [
    "# training = companies[:80000]\n",
    "# counter_train = Counter([c['industry'] for c in training])\n",
    "# min_freq = counter_train.most_common()[-1][1]\n",
    "# lda_train = []\n",
    "# c_lda = Counter()\n",
    "# for company in tqdm(training):\n",
    "#     if c_lda.get(company['industry'], 0) < 50:\n",
    "#         text, file_name = get_full_text(company['path_to'])\n",
    "#         if text:\n",
    "#             lda_train.append(company)\n",
    "#             c_lda = Counter([c['industry'] for c in lda_train])\n",
    "\n",
    "\n",
    "only_lda = Pipeline([('Full', full_text_transformer), ('CV', cv), ('tfid', tf_transformer), ('lda', lda)])\n",
    "# only_lda.fit(lda_train)\n",
    "\n",
    "def lda_add(data):\n",
    "    lda_output = lda.transform(data)\n",
    "    return hstack((data, lda_output))\n",
    "    return lda_output\n",
    "\n",
    "\n",
    "lda_transformer = FunctionTransformer(lda_add, validate=False)\n",
    "\n"
   ]
  },
  {
   "cell_type": "code",
   "execution_count": 18,
   "metadata": {
    "collapsed": false
   },
   "outputs": [],
   "source": [
    "from sklearn.ensemble import VotingClassifier\n",
    "\n",
    "pipe_full = Pipeline([('Full', full_text_transformer)] + pipeline_elements)\n",
    "pipe_nav_menus = Pipeline([('Navs', nav_menus_transformer)] + pipeline_elements)\n",
    "pipe_descriptions = Pipeline([('Descriptions', descriptions_transformer)] + pipeline_elements)\n",
    "pipe_titles = Pipeline([('Titles', titles_transformer)] + pipeline_elements)\n",
    "pipe_keywords = Pipeline([('Keywords', keywords_transformer)] + pipeline_elements)\n",
    "\n",
    "identity = FunctionTransformer(None, validate=False)\n",
    "lda_union = FeatureUnion([('lda', lda), ('identity', identity)])\n",
    "pipe_lda = Pipeline([('Full', full_text_transformer),\n",
    "                     ('tfv', tfv),\n",
    "                     ('lda_union', lda_union),\n",
    "#                      ('lda', lda),\n",
    "                     ('clf', clf2)\n",
    "                    ])\n",
    "\n",
    "voting = VotingClassifier(estimators=[('full', pipe_full),\n",
    "                                      ('navs', pipe_nav_menus),\n",
    "                                      ('desc', pipe_descriptions),\n",
    "                                      ('titles', pipe_titles),\n",
    "                                      ('keywords', pipe_keywords)\n",
    "#                                       ('lda', pipe_lda)\n",
    "                                     ],\n",
    "                         voting='hard')  # TODO Try with adding keywords"
   ]
  },
  {
   "cell_type": "markdown",
   "metadata": {},
   "source": [
    "## Fit and test"
   ]
  },
  {
   "cell_type": "code",
   "execution_count": 358,
   "metadata": {
    "collapsed": true
   },
   "outputs": [],
   "source": [
    "companies_orig = companies\n",
    "\n",
    "companies = [c for c in companies if c['website_lang'] == 'en']\n",
    "\n",
    "# 171266 vs 110254"
   ]
  },
  {
   "cell_type": "code",
   "execution_count": 8,
   "metadata": {
    "collapsed": false
   },
   "outputs": [
    {
     "name": "stderr",
     "output_type": "stream",
     "text": [
      "100%|██████████| 171266/171266 [02:23<00:00, 1196.53it/s]\n"
     ]
    }
   ],
   "source": [
    "from sklearn.utils import shuffle\n",
    "from scipy.sparse import hstack\n",
    "\n",
    "\n",
    "companies = shuffle(companies)\n",
    "\n",
    "target = []\n",
    "train_data = []\n",
    "\n",
    "for company in tqdm(companies):\n",
    "    text, file_name = get_full_text(company['path_to'])\n",
    "    if text:\n",
    "        train_data.append(company)\n",
    "        industry = company['industry']\n",
    "#         industry = industry if industry == 'Food & Beverages' else 'Not'\n",
    "        target.append(industry)\n",
    "#         target.append(company['company_size_clean'])\n",
    "\n",
    "# new = extract_matrix(train_data)\n",
    "\n",
    "# Fit\n",
    "# clf2.fit(new, target)\n",
    "\n",
    "# pipe_lda_final.fit(train_data, target)\n",
    "# voting.fit(train_data, target)\n",
    "# pipe_full.fit(train_data, target)"
   ]
  },
  {
   "cell_type": "code",
   "execution_count": null,
   "metadata": {
    "collapsed": false
   },
   "outputs": [],
   "source": [
    "# Select the best in voting\n",
    "from sklearn.grid_search import GridSearchCV\n",
    "\n",
    "params = [{'voting': ['hard', 'soft']},\n",
    "          {'voting': ['hard'],\n",
    "          'weights': [[1, 1, 1, 1], [2, 1.5, 1.2, 1.2], [1, 1.2, 1.2, 1], [1.5, 1, 1, 1]]}]\n",
    "params = params[1]\n",
    "\n",
    "grid = GridSearchCV(voting, param_grid=params, scoring=score_similar)\n",
    "grid.fit(train_data, target)"
   ]
  },
  {
   "cell_type": "markdown",
   "metadata": {},
   "source": [
    "TODO:\n",
    "- testiraj uspesnost nav, descriptions, etc. ko gledamo samo strani, ki to imajo in primerjaj to z dejansko uspesnostjo\n",
    "- testiraj pipe_full na stevilu zaposlenih\n",
    "- testiraj lda na popravljenih podatkih"
   ]
  },
  {
   "cell_type": "code",
   "execution_count": null,
   "metadata": {
    "collapsed": false
   },
   "outputs": [
    {
     "name": "stderr",
     "output_type": "stream",
     "text": [
      "100%|██████████| 106800/106800 [00:11<00:00, 9026.45it/s] \n",
      "100%|██████████| 106772/106772 [00:20<00:00, 5192.19it/s]\n",
      "\n",
      "100%|██████████| 53356/53356 [00:01<00:00, 27553.09it/s]\n",
      "100%|██████████| 53384/53384 [00:02<00:00, 26343.02it/s]\n",
      "100%|██████████| 53416/53416 [00:02<00:00, 26400.35it/s]\n"
     ]
    },
    {
     "name": "stdout",
     "output_type": "stream",
     "text": [
      "***** score_nav *****\n",
      "0.27467142131\n"
     ]
    },
    {
     "name": "stderr",
     "output_type": "stream",
     "text": [
      "100%|██████████| 106800/106800 [00:13<00:00, 7759.11it/s] \n",
      "100%|██████████| 106740/106740 [00:27<00:00, 3905.03it/s]\n",
      "\n",
      "100%|██████████| 53356/53356 [00:01<00:00, 26974.07it/s]\n",
      "100%|██████████| 53384/53384 [00:06<00:00, 8144.77it/s] \n",
      "100%|██████████| 53416/53416 [00:11<00:00, 4454.56it/s]\n"
     ]
    },
    {
     "name": "stdout",
     "output_type": "stream",
     "text": [
      "***** score_titles *****\n",
      "0.401709146636\n"
     ]
    },
    {
     "name": "stderr",
     "output_type": "stream",
     "text": [
      "100%|██████████| 106800/106800 [00:10<00:00, 9783.86it/s] \n",
      "100%|██████████| 106740/106740 [00:20<00:00, 5172.66it/s]\n",
      "\n",
      "100%|██████████| 53356/53356 [00:01<00:00, 26707.51it/s]\n",
      "100%|██████████| 53384/53384 [00:02<00:00, 24082.14it/s]\n",
      "100%|██████████| 53416/53416 [00:02<00:00, 26121.68it/s]\n"
     ]
    },
    {
     "name": "stdout",
     "output_type": "stream",
     "text": [
      "***** score_descriptions *****\n",
      "0.313623645956\n"
     ]
    },
    {
     "name": "stderr",
     "output_type": "stream",
     "text": [
      "100%|██████████| 106800/106800 [00:05<00:00, 19815.61it/s]\n",
      "100%|██████████| 106772/106772 [00:06<00:00, 15801.33it/s]\n",
      "\n",
      "100%|██████████| 53356/53356 [00:02<00:00, 21593.17it/s]\n",
      "100%|██████████| 53416/53416 [00:01<00:00, 26882.06it/s]\n",
      "100%|██████████| 53384/53384 [00:01<00:00, 27554.83it/s]\n"
     ]
    },
    {
     "name": "stdout",
     "output_type": "stream",
     "text": [
      "***** score_keywords *****\n",
      "0.219807591855\n"
     ]
    },
    {
     "name": "stderr",
     "output_type": "stream",
     "text": [
      "100%|██████████| 106740/106740 [00:43<00:00, 2443.24it/s]\n",
      "100%|██████████| 106740/106740 [00:23<00:00, 4634.07it/s]\n",
      "100%|██████████| 106740/106740 [00:04<00:00, 25192.21it/s]\n",
      "100%|██████████| 106740/106740 [00:06<00:00, 17715.95it/s]\n",
      "100%|██████████| 106740/106740 [00:03<00:00, 27177.89it/s]\n",
      "100%|██████████| 53416/53416 [00:21<00:00, 2461.56it/s]\n",
      "100%|██████████| 53416/53416 [00:11<00:00, 4804.37it/s]\n",
      "100%|██████████| 53416/53416 [00:02<00:00, 23507.37it/s]\n",
      "100%|██████████| 53416/53416 [00:02<00:00, 25163.84it/s]\n",
      "100%|██████████| 53416/53416 [00:02<00:00, 25318.01it/s]\n",
      "100%|██████████| 106772/106772 [00:09<00:00, 11460.30it/s]\n",
      "100%|██████████| 106772/106772 [00:04<00:00, 25308.50it/s]\n",
      "100%|██████████| 106772/106772 [00:04<00:00, 24896.70it/s]\n",
      "100%|██████████| 106772/106772 [00:04<00:00, 25202.36it/s]\n",
      "100%|██████████| 106772/106772 [00:04<00:00, 25110.25it/s]\n",
      "100%|██████████| 53384/53384 [00:05<00:00, 9958.77it/s] \n",
      "100%|██████████| 53384/53384 [00:02<00:00, 19401.29it/s]\n",
      "100%|██████████| 53384/53384 [00:09<00:00, 5448.54it/s]\n",
      "100%|██████████| 53384/53384 [00:02<00:00, 19639.63it/s]\n",
      "100%|██████████| 53384/53384 [00:04<00:00, 13193.83it/s]\n",
      "100%|██████████| 106800/106800 [00:09<00:00, 10754.85it/s]\n",
      "100%|██████████| 106800/106800 [00:04<00:00, 24475.14it/s]\n",
      "100%|██████████| 106800/106800 [00:11<00:00, 9689.68it/s] \n",
      "100%|██████████| 106800/106800 [00:18<00:00, 5786.34it/s] \n",
      "100%|██████████| 106800/106800 [00:05<00:00, 18518.62it/s]\n",
      "100%|██████████| 53356/53356 [00:18<00:00, 2895.20it/s]\n",
      "100%|██████████| 53356/53356 [00:09<00:00, 5910.77it/s]\n",
      "100%|██████████| 53356/53356 [00:09<00:00, 5349.80it/s]\n",
      "100%|██████████| 53356/53356 [00:03<00:00, 14103.79it/s]\n",
      "100%|██████████| 53356/53356 [00:03<00:00, 13547.01it/s]\n",
      "100%|██████████| 106740/106740 [00:10<00:00, 10190.10it/s]\n",
      "100%|██████████| 106740/106740 [00:12<00:00, 8592.57it/s] \n",
      "100%|██████████| 106740/106740 [00:07<00:00, 14069.54it/s]\n",
      " 80%|████████  | 85636/106740 [00:15<00:00, 25897.79it/s]"
     ]
    }
   ],
   "source": [
    "from sklearn.cross_validation import cross_val_score\n",
    "\n",
    "score_nav = cross_val_score(pipe_nav_menus, train_data, target, scoring=score_similar, n_jobs=5)\n",
    "print(\"***** score_nav *****\")\n",
    "print(score_nav.mean())\n",
    "score_titles = cross_val_score(pipe_titles, train_data, target, scoring=score_similar, n_jobs=5)\n",
    "print(\"***** score_titles *****\")\n",
    "print(score_titles.mean())\n",
    "score_descriptions = cross_val_score(pipe_descriptions, train_data, target, scoring=score_similar, n_jobs=5)\n",
    "print(\"***** score_descriptions *****\")\n",
    "print(score_descriptions.mean())\n",
    "score_keywords = cross_val_score(pipe_keywords, train_data, target, scoring=score_similar, n_jobs=5)\n",
    "print(\"***** score_keywords *****\")\n",
    "print(score_keywords.mean())\n",
    "\n",
    "params = {\n",
    "    'voting': ['hard'],\n",
    "    'weights': [[1, 1, 1, 1, 1], [1, 1, 1, 1, 0], [1.7, 1, 1, 1, 1], [1, 1, 0.5, 0.5, 0.5], [1, 0.5, 1, 1, 0.5]]\n",
    "}\n",
    "\n",
    "grid = GridSearchCV(voting, param_grid=params, scoring=score_similar)\n",
    "grid.fit(train_data, target)"
   ]
  },
  {
   "cell_type": "code",
   "execution_count": 16,
   "metadata": {
    "collapsed": false
   },
   "outputs": [
    {
     "name": "stderr",
     "output_type": "stream",
     "text": [
      "100%|██████████| 106740/106740 [00:09<00:00, 11513.86it/s]\n",
      "100%|██████████| 106772/106772 [00:09<00:00, 11685.06it/s]\n",
      "100%|██████████| 106800/106800 [00:09<00:00, 11646.26it/s]\n",
      "100%|██████████| 53356/53356 [00:11<00:00, 4549.46it/s]\n",
      "100%|██████████| 53384/53384 [00:05<00:00, 10019.56it/s]\n",
      "100%|██████████| 53416/53416 [00:04<00:00, 11944.26it/s]\n",
      "100%|██████████| 106740/106740 [00:09<00:00, 11757.05it/s]\n",
      "100%|██████████| 106772/106772 [00:09<00:00, 11353.29it/s]\n",
      "100%|██████████| 106800/106800 [00:09<00:00, 11486.73it/s]\n",
      "100%|██████████| 53416/53416 [00:11<00:00, 4581.78it/s]\n",
      "100%|██████████| 53356/53356 [00:05<00:00, 10580.37it/s]\n",
      "100%|██████████| 53384/53384 [00:04<00:00, 11426.91it/s]\n",
      "100%|██████████| 160156/160156 [00:14<00:00, 11417.61it/s]\n"
     ]
    },
    {
     "data": {
      "text/plain": [
       "GridSearchCV(cv=None, error_score='raise',\n",
       "       estimator=Pipeline(steps=[('Full', FunctionTransformer(accept_sparse=False,\n",
       "          func=<function get_full_text_from_company at 0x7f814e0cdd08>,\n",
       "          pass_y=False, validate=False)), ('HV', HashingVectorizer(analyzer='word', binary=False, decode_error='strict',\n",
       "         dtype=<class 'numpy.float64'>, encoding='...   penalty='l2', power_t=0.5, random_state=None, shuffle=True,\n",
       "       verbose=0, warm_start=False))]),\n",
       "       fit_params={}, iid=True, n_jobs=3,\n",
       "       param_grid={'svc__loss': ['log'], 'svc__epsilon': [0.1, 5]},\n",
       "       pre_dispatch='2*n_jobs', refit=True,\n",
       "       scoring=<function score_similar at 0x7f814814ae18>, verbose=0)"
      ]
     },
     "execution_count": 16,
     "metadata": {},
     "output_type": "execute_result"
    }
   ],
   "source": [
    "# Select the best\n",
    "from sklearn.grid_search import GridSearchCV\n",
    "\n",
    "params = {\n",
    "#     'svc__penalty': ['l1', 'l2'],\n",
    "#     'svc__alpha': [0.001, 0.01, 0.1],\n",
    "#     'svc__n_iter': [5, 10, 100],\n",
    "#     'svc__class_weight': [None, 'balanced']\n",
    "#     'HV__stop_words': [None, 'english']\n",
    "    'svc__loss': ['log'],\n",
    "    'svc__epsilon': [0.1, 5]\n",
    "         }\n",
    "\n",
    "grid = GridSearchCV(pipe_full, param_grid=params, scoring=score_similar, n_jobs=3)\n",
    "grid.fit(train_data, target)"
   ]
  },
  {
   "cell_type": "code",
   "execution_count": 17,
   "metadata": {
    "collapsed": false
   },
   "outputs": [
    {
     "data": {
      "text/plain": [
       "[mean: 0.16104, std: 0.00171, params: {'svc__loss': 'log', 'svc__epsilon': 0.1},\n",
       " mean: 0.16124, std: 0.00073, params: {'svc__loss': 'log', 'svc__epsilon': 5}]"
      ]
     },
     "execution_count": 17,
     "metadata": {},
     "output_type": "execute_result"
    }
   ],
   "source": [
    "grid.grid_scores_"
   ]
  },
  {
   "cell_type": "code",
   "execution_count": null,
   "metadata": {
    "collapsed": false,
    "scrolled": true
   },
   "outputs": [
    {
     "name": "stderr",
     "output_type": "stream",
     "text": [
      "100%|██████████| 46642/46642 [00:01<00:00, 23605.72it/s]\n",
      "100%|██████████| 23358/23358 [00:00<00:00, 24903.04it/s]\n",
      "100%|██████████| 46665/46665 [00:01<00:00, 25038.08it/s]\n",
      "100%|██████████| 23335/23335 [00:00<00:00, 24859.25it/s]\n",
      "100%|██████████| 46693/46693 [00:01<00:00, 24781.26it/s]\n",
      "100%|██████████| 23307/23307 [00:00<00:00, 24564.18it/s]\n",
      "100%|██████████| 46642/46642 [00:01<00:00, 25251.46it/s]\n",
      "100%|██████████| 23358/23358 [00:00<00:00, 24892.21it/s]\n",
      "100%|██████████| 46665/46665 [00:01<00:00, 24848.22it/s]\n",
      "100%|██████████| 23335/23335 [00:00<00:00, 25599.07it/s]\n",
      "100%|██████████| 46693/46693 [00:01<00:00, 24701.34it/s]\n",
      "100%|██████████| 23307/23307 [00:00<00:00, 25226.55it/s]\n",
      "100%|██████████| 46642/46642 [00:01<00:00, 24219.36it/s]\n",
      "100%|██████████| 23358/23358 [00:00<00:00, 24814.28it/s]\n",
      "100%|██████████| 46665/46665 [00:01<00:00, 24466.19it/s]\n",
      "100%|██████████| 23335/23335 [00:00<00:00, 25142.72it/s]\n",
      "100%|██████████| 46693/46693 [00:01<00:00, 24916.53it/s]\n",
      "100%|██████████| 23307/23307 [00:00<00:00, 25142.54it/s]\n",
      "100%|██████████| 46642/46642 [00:01<00:00, 25344.61it/s]\n",
      "100%|██████████| 23358/23358 [00:00<00:00, 24943.89it/s]\n",
      "100%|██████████| 46665/46665 [00:01<00:00, 24737.88it/s]\n",
      "100%|██████████| 23335/23335 [00:00<00:00, 24639.15it/s]\n",
      "100%|██████████| 46693/46693 [00:01<00:00, 24961.02it/s]\n",
      "100%|██████████| 23307/23307 [00:00<00:00, 25615.20it/s]\n",
      "100%|██████████| 46642/46642 [00:01<00:00, 24830.07it/s]\n",
      "100%|██████████| 23358/23358 [00:00<00:00, 24535.10it/s]\n",
      "100%|██████████| 46665/46665 [00:01<00:00, 24865.86it/s]\n",
      "100%|██████████| 23335/23335 [00:00<00:00, 24402.83it/s]\n",
      "100%|██████████| 46693/46693 [00:01<00:00, 24744.35it/s]\n",
      "100%|██████████| 23307/23307 [00:00<00:00, 24774.97it/s]\n",
      "100%|██████████| 46642/46642 [00:01<00:00, 24763.05it/s]\n",
      "100%|██████████| 23358/23358 [00:00<00:00, 25102.19it/s]\n",
      "100%|██████████| 46665/46665 [00:01<00:00, 24950.46it/s]\n",
      " 42%|████▏     | 9881/23335 [00:00<00:00, 24602.02it/s]"
     ]
    }
   ],
   "source": [
    "# Try getting something valuable out of LDA\n",
    "\n",
    "lda_params = [\n",
    "    {'tfv__max_features': [1000, 2000, 4000]},\n",
    "#     {'lda_union__lda__n_topics': [10, 50, 90]}\n",
    "    {'lda__n_topics': [10, 50, 90],\n",
    "]\n",
    "\n",
    "grid_lda = GridSearchCV(pipe_lda, param_grid=lda_params, scoring=score_similar)#, n_jobs=3)\n",
    "\n",
    "grid_lda.fit(train_data[:70000], target[:70000])"
   ]
  },
  {
   "cell_type": "code",
   "execution_count": 578,
   "metadata": {
    "collapsed": false,
    "scrolled": true
   },
   "outputs": [
    {
     "data": {
      "text/plain": [
       "[mean: 0.32098, std: 0.00189, params: {'tfv__max_features': 3000},\n",
       " mean: 0.36871, std: 0.00153, params: {'tfv__max_features': 10000}]"
      ]
     },
     "execution_count": 578,
     "metadata": {},
     "output_type": "execute_result"
    }
   ],
   "source": [
    "grid_lda.grid_scores_"
   ]
  },
  {
   "cell_type": "code",
   "execution_count": null,
   "metadata": {
    "collapsed": false
   },
   "outputs": [],
   "source": [
    "grid_lda"
   ]
  },
  {
   "cell_type": "code",
   "execution_count": null,
   "metadata": {
    "collapsed": false
   },
   "outputs": [
    {
     "name": "stderr",
     "output_type": "stream",
     "text": [
      "100%|██████████| 106740/106740 [00:09<00:00, 11520.93it/s]\n",
      "100%|██████████| 53416/53416 [00:04<00:00, 11940.70it/s]\n",
      "100%|██████████| 106772/106772 [00:09<00:00, 11075.45it/s]\n"
     ]
    }
   ],
   "source": [
    "lda_params ={\n",
    "    'tfv__max_features': [3000, 10000],\n",
    "#     'lda_union__lda__learning_offset': [10., 50.],\n",
    "#     'clf__alpha': [0.01, 0.001]\n",
    "}\n",
    "\n",
    "grid_lda = GridSearchCV(pipe_lda, param_grid=lda_params, scoring=score_similar)#, n_jobs=3)\n",
    "\n",
    "grid_lda.fit(train_data, target)"
   ]
  },
  {
   "cell_type": "markdown",
   "metadata": {},
   "source": [
    "### Balance the data"
   ]
  },
  {
   "cell_type": "code",
   "execution_count": 64,
   "metadata": {
    "collapsed": false
   },
   "outputs": [
    {
     "data": {
      "text/plain": [
       "40500"
      ]
     },
     "execution_count": 64,
     "metadata": {},
     "output_type": "execute_result"
    }
   ],
   "source": [
    "len(train_dataset)"
   ]
  },
  {
   "cell_type": "code",
   "execution_count": 60,
   "metadata": {
    "collapsed": false
   },
   "outputs": [
    {
     "name": "stderr",
     "output_type": "stream",
     "text": [
      "100%|██████████| 171266/171266 [06:13<00:00, 458.87it/s]  \n"
     ]
    }
   ],
   "source": [
    "from collections import Counter\n",
    "\n",
    "industries = Counter([c['industry'] for c in companies])\n",
    "industries.most_common()\n",
    "\n",
    "train_dataset = []\n",
    "counter = Counter()\n",
    "\n",
    "for company in tqdm(companies):\n",
    "    if counter.get(company['industry'], 0) < 450:\n",
    "        train_dataset.append(company)\n",
    "        counter = Counter([c['industry'] for c in train_dataset])\n",
    "\n"
   ]
  },
  {
   "cell_type": "code",
   "execution_count": 263,
   "metadata": {
    "collapsed": false
   },
   "outputs": [
    {
     "data": {
      "text/plain": [
       "[('lda', Pipeline(steps=[('Full', FunctionTransformer(accept_sparse=False,\n",
       "            func=<function get_full_text_from_company at 0x7f08b270c8c8>,\n",
       "            pass_y=False, validate=False)), ('CV', CountVectorizer(analyzer='word', binary=False, decode_error='strict',\n",
       "          dtype=<class 'numpy.int64'>, encoding='utf-8...ol=0.1, random_state=None,\n",
       "               topic_word_prior=None, total_samples=1000000.0, verbose=0))])),\n",
       " ('svc',\n",
       "  SGDClassifier(alpha=0.01, average=False, class_weight=None, epsilon=0.1,\n",
       "         eta0=0.0, fit_intercept=True, l1_ratio=0.15,\n",
       "         learning_rate='optimal', loss='hinge', n_iter=100, n_jobs=10,\n",
       "         penalty='l2', power_t=0.5, random_state=None, shuffle=True,\n",
       "         verbose=0, warm_start=False))]"
      ]
     },
     "execution_count": 263,
     "metadata": {},
     "output_type": "execute_result"
    }
   ],
   "source": [
    "pipe_lda_final.steps"
   ]
  },
  {
   "cell_type": "code",
   "execution_count": 561,
   "metadata": {
    "collapsed": false
   },
   "outputs": [
    {
     "name": "stderr",
     "output_type": "stream",
     "text": [
      "100%|██████████| 10000/10000 [00:00<00:00, 24084.68it/s]\n",
      "100%|██████████| 8435/8435 [00:00<00:00, 25142.97it/s]\n",
      "100%|██████████| 8435/8435 [00:00<00:00, 26388.46it/s]\n",
      "100%|██████████| 8435/8435 [00:00<00:00, 25456.44it/s]\n",
      "100%|██████████| 8435/8435 [00:00<00:00, 25478.16it/s]\n",
      "100%|██████████| 8435/8435 [00:00<00:00, 25251.53it/s]\n"
     ]
    }
   ],
   "source": [
    "test_data = []\n",
    "\n",
    "for company in tqdm(companies[-10000:]):\n",
    "    text, file_name = get_full_text(company['path_to'])\n",
    "    if text:\n",
    "        test_data.append(company)\n",
    "\n",
    "score_voting = voting.score(test_data, [c['industry'] for c in test_data])  # 39% -> 40% eng  44% adjusted\n",
    "# score_full = pipe_full.score(test_data, [c['company_size_clean'] for c in test_data])  # 52.3% -> 53.8% eng\n",
    "# nav_menus - 21%\n",
    "# descriptions - 28%\n",
    "# cutoff industries 500 - 750 - 2%\n",
    "# added lda (4000, 90) - 26%"
   ]
  },
  {
   "cell_type": "code",
   "execution_count": 562,
   "metadata": {
    "collapsed": false
   },
   "outputs": [
    {
     "data": {
      "text/plain": [
       "0.3805572021339656"
      ]
     },
     "execution_count": 562,
     "metadata": {},
     "output_type": "execute_result"
    }
   ],
   "source": [
    "score_voting"
   ]
  },
  {
   "cell_type": "code",
   "execution_count": 408,
   "metadata": {
    "collapsed": false
   },
   "outputs": [
    {
     "name": "stderr",
     "output_type": "stream",
     "text": [
      "100%|██████████| 6744/6744 [00:00<00:00, 23413.21it/s]\n"
     ]
    },
    {
     "data": {
      "text/plain": [
       "0.741399762752076"
      ]
     },
     "execution_count": 408,
     "metadata": {},
     "output_type": "execute_result"
    }
   ],
   "source": [
    "sizes = {\n",
    "    '1': 1,\n",
    "    '1-10': 2,\n",
    "    '11-50': 3,\n",
    "    '51-200': 4,\n",
    "    '201-500': 5,\n",
    "    '501-1000': 6,\n",
    "    '1001-5000': 7,\n",
    "    '5001-10,000': 8,\n",
    "    '10,001+': 9,\n",
    "}\n",
    "\n",
    "actual = [c['company_size_clean'] for c in test_data]\n",
    "predicted = pipe_full.predict(test_data)\n",
    "correct = 0\n",
    "for p, a in zip(predicted, actual):\n",
    "    if abs(sizes.get(p) - sizes.get(a)) < 2:\n",
    "        correct += 1\n",
    "\n",
    "correct / len(actual)"
   ]
  },
  {
   "cell_type": "code",
   "execution_count": 584,
   "metadata": {
    "collapsed": false
   },
   "outputs": [
    {
     "ename": "AttributeError",
     "evalue": "'VotingClassifier' object has no attribute 'estimators_'",
     "output_type": "error",
     "traceback": [
      "\u001b[0;31m---------------------------------------------------------------------------\u001b[0m",
      "\u001b[0;31mAttributeError\u001b[0m                            Traceback (most recent call last)",
      "\u001b[0;32m<ipython-input-584-c99a91e43f30>\u001b[0m in \u001b[0;36m<module>\u001b[0;34m()\u001b[0m\n\u001b[0;32m----> 1\u001b[0;31m \u001b[0mscore_similar\u001b[0m\u001b[0;34m(\u001b[0m\u001b[0mvoting\u001b[0m\u001b[0;34m,\u001b[0m \u001b[0mtest_data\u001b[0m\u001b[0;34m,\u001b[0m \u001b[0;34m[\u001b[0m\u001b[0mc\u001b[0m\u001b[0;34m[\u001b[0m\u001b[0;34m'industry'\u001b[0m\u001b[0;34m]\u001b[0m \u001b[0;32mfor\u001b[0m \u001b[0mc\u001b[0m \u001b[0;32min\u001b[0m \u001b[0mtest_data\u001b[0m\u001b[0;34m]\u001b[0m\u001b[0;34m)\u001b[0m\u001b[0;34m\u001b[0m\u001b[0m\n\u001b[0m",
      "\u001b[0;32m<ipython-input-495-3b6131c664db>\u001b[0m in \u001b[0;36mscore_similar\u001b[0;34m(estimator, data, actual)\u001b[0m\n\u001b[1;32m      1\u001b[0m \u001b[0;34m\u001b[0m\u001b[0m\n\u001b[1;32m      2\u001b[0m \u001b[0;32mdef\u001b[0m \u001b[0mscore_similar\u001b[0m\u001b[0;34m(\u001b[0m\u001b[0mestimator\u001b[0m\u001b[0;34m,\u001b[0m \u001b[0mdata\u001b[0m\u001b[0;34m,\u001b[0m \u001b[0mactual\u001b[0m\u001b[0;34m)\u001b[0m\u001b[0;34m:\u001b[0m\u001b[0;34m\u001b[0m\u001b[0m\n\u001b[0;32m----> 3\u001b[0;31m     \u001b[0mpredict\u001b[0m \u001b[0;34m=\u001b[0m \u001b[0mestimator\u001b[0m\u001b[0;34m.\u001b[0m\u001b[0mpredict\u001b[0m\u001b[0;34m(\u001b[0m\u001b[0mdata\u001b[0m\u001b[0;34m)\u001b[0m\u001b[0;34m\u001b[0m\u001b[0m\n\u001b[0m\u001b[1;32m      4\u001b[0m \u001b[0;31m#     actual = [c['industry'] for c in actual]\u001b[0m\u001b[0;34m\u001b[0m\u001b[0;34m\u001b[0m\u001b[0m\n\u001b[1;32m      5\u001b[0m     \u001b[0mexpected_count\u001b[0m \u001b[0;34m=\u001b[0m \u001b[0mCounter\u001b[0m\u001b[0;34m(\u001b[0m\u001b[0mactual\u001b[0m\u001b[0;34m)\u001b[0m\u001b[0;34m\u001b[0m\u001b[0m\n",
      "\u001b[0;32m/home/zan/anaconda3/envs/masters/lib/python3.5/site-packages/sklearn/ensemble/voting_classifier.py\u001b[0m in \u001b[0;36mpredict\u001b[0;34m(self, X)\u001b[0m\n\u001b[1;32m    147\u001b[0m \u001b[0;34m\u001b[0m\u001b[0m\n\u001b[1;32m    148\u001b[0m         \u001b[0;32melse\u001b[0m\u001b[0;34m:\u001b[0m  \u001b[0;31m# 'hard' voting\u001b[0m\u001b[0;34m\u001b[0m\u001b[0m\n\u001b[0;32m--> 149\u001b[0;31m             \u001b[0mpredictions\u001b[0m \u001b[0;34m=\u001b[0m \u001b[0mself\u001b[0m\u001b[0;34m.\u001b[0m\u001b[0m_predict\u001b[0m\u001b[0;34m(\u001b[0m\u001b[0mX\u001b[0m\u001b[0;34m)\u001b[0m\u001b[0;34m\u001b[0m\u001b[0m\n\u001b[0m\u001b[1;32m    150\u001b[0m             maj = np.apply_along_axis(lambda x:\n\u001b[1;32m    151\u001b[0m                                       np.argmax(np.bincount(x,\n",
      "\u001b[0;32m/home/zan/anaconda3/envs/masters/lib/python3.5/site-packages/sklearn/ensemble/voting_classifier.py\u001b[0m in \u001b[0;36m_predict\u001b[0;34m(self, X)\u001b[0m\n\u001b[1;32m    224\u001b[0m     \u001b[0;32mdef\u001b[0m \u001b[0m_predict\u001b[0m\u001b[0;34m(\u001b[0m\u001b[0mself\u001b[0m\u001b[0;34m,\u001b[0m \u001b[0mX\u001b[0m\u001b[0;34m)\u001b[0m\u001b[0;34m:\u001b[0m\u001b[0;34m\u001b[0m\u001b[0m\n\u001b[1;32m    225\u001b[0m         \u001b[0;34m\"\"\"Collect results from clf.predict calls. \"\"\"\u001b[0m\u001b[0;34m\u001b[0m\u001b[0m\n\u001b[0;32m--> 226\u001b[0;31m         \u001b[0;32mreturn\u001b[0m \u001b[0mnp\u001b[0m\u001b[0;34m.\u001b[0m\u001b[0masarray\u001b[0m\u001b[0;34m(\u001b[0m\u001b[0;34m[\u001b[0m\u001b[0mclf\u001b[0m\u001b[0;34m.\u001b[0m\u001b[0mpredict\u001b[0m\u001b[0;34m(\u001b[0m\u001b[0mX\u001b[0m\u001b[0;34m)\u001b[0m \u001b[0;32mfor\u001b[0m \u001b[0mclf\u001b[0m \u001b[0;32min\u001b[0m \u001b[0mself\u001b[0m\u001b[0;34m.\u001b[0m\u001b[0mestimators_\u001b[0m\u001b[0;34m]\u001b[0m\u001b[0;34m)\u001b[0m\u001b[0;34m.\u001b[0m\u001b[0mT\u001b[0m\u001b[0;34m\u001b[0m\u001b[0m\n\u001b[0m",
      "\u001b[0;31mAttributeError\u001b[0m: 'VotingClassifier' object has no attribute 'estimators_'"
     ]
    }
   ],
   "source": [
    "score_similar(voting, test_data, [c['industry'] for c in test_data])"
   ]
  },
  {
   "cell_type": "code",
   "execution_count": 609,
   "metadata": {
    "collapsed": false,
    "scrolled": true
   },
   "outputs": [
    {
     "data": {
      "text/plain": [
       "DummyClassifier(constant='Marketing and Advertising', random_state=None,\n",
       "        strategy='stratified')"
      ]
     },
     "execution_count": 609,
     "metadata": {},
     "output_type": "execute_result"
    }
   ],
   "source": [
    "from sklearn.dummy import DummyClassifier\n",
    "\n",
    "# Always most frequent - 8.3%\n",
    "# Based on freq - 4.2%\n",
    "# Random 2.4%\n",
    "\n",
    "dummy = DummyClassifier(strategy='stratified', constant='Marketing and Advertising')\n",
    "dummy.fit(train_data, target)"
   ]
  },
  {
   "cell_type": "code",
   "execution_count": 610,
   "metadata": {
    "collapsed": false
   },
   "outputs": [
    {
     "data": {
      "text/plain": [
       "0.04184943687018373"
      ]
     },
     "execution_count": 610,
     "metadata": {},
     "output_type": "execute_result"
    }
   ],
   "source": [
    "score_similar(dummy, [[1, 1, 1] for t in test_data], [c['industry'] for c in test_data])"
   ]
  },
  {
   "cell_type": "markdown",
   "metadata": {},
   "source": [
    "## Evaluate"
   ]
  },
  {
   "cell_type": "code",
   "execution_count": 484,
   "metadata": {
    "collapsed": false
   },
   "outputs": [
    {
     "name": "stderr",
     "output_type": "stream",
     "text": [
      "100%|██████████| 6719/6719 [00:00<00:00, 24604.29it/s]\n",
      "100%|██████████| 6719/6719 [00:00<00:00, 25718.54it/s]\n",
      "100%|██████████| 6719/6719 [00:00<00:00, 26663.27it/s]\n",
      "100%|██████████| 6719/6719 [00:00<00:00, 26926.25it/s]\n"
     ]
    },
    {
     "name": "stdout",
     "output_type": "stream",
     "text": [
      "Classification report for classifier:\n",
      "             precision    recall  f1-score   support\n",
      "\n",
      " Accounting       0.29      0.53      0.37        34\n",
      "Airlines/Aviation       0.39      0.31      0.35        29\n",
      "Apparel & Fashion       0.36      0.46      0.40        69\n",
      "Architecture & Planning       0.09      0.74      0.16        91\n",
      " Automotive       0.39      0.60      0.47        96\n",
      "Aviation & Aerospace       0.24      0.15      0.18        27\n",
      "    Banking       0.54      0.66      0.59        50\n",
      "Biotechnology       0.35      0.36      0.36        36\n",
      "Broadcast Media       0.35      0.25      0.29        52\n",
      "Building Materials       0.23      0.13      0.17        53\n",
      "Business Supplies and Equipment       0.25      0.05      0.09        37\n",
      "  Chemicals       0.36      0.36      0.36        28\n",
      "Civic & Social Organization       0.20      0.15      0.17        54\n",
      "Civil Engineering       0.00      0.00      0.00        27\n",
      "Computer Games       0.44      0.44      0.44        27\n",
      "Computer Software       0.28      0.21      0.24       239\n",
      "Construction       0.31      0.38      0.34       125\n",
      "Consumer Electronics       0.10      0.04      0.06        26\n",
      "Consumer Goods       0.09      0.04      0.06        48\n",
      "Consumer Services       0.00      0.00      0.00        26\n",
      "  Cosmetics       0.30      0.50      0.38        14\n",
      "     Design       0.35      0.22      0.27       140\n",
      " E-Learning       0.00      0.00      0.00        26\n",
      "Education Management       0.38      0.31      0.34       129\n",
      "Electrical/Electronic Manufacturing       0.36      0.40      0.38        88\n",
      "Entertainment       0.27      0.11      0.16        73\n",
      "Environmental Services       0.22      0.20      0.21        50\n",
      "Events Services       0.43      0.42      0.43       129\n",
      "Facilities Services       0.35      0.27      0.31        22\n",
      "Financial Services       0.46      0.43      0.45       162\n",
      "Food & Beverages       0.33      0.37      0.35        65\n",
      "Food Production       0.21      0.12      0.16        32\n",
      "  Furniture       0.50      0.51      0.51        35\n",
      "Government Administration       0.58      0.36      0.45        58\n",
      "Graphic Design       0.60      0.08      0.14        37\n",
      "Health, Wellness and Fitness       0.51      0.44      0.47        91\n",
      "Higher Education       0.58      0.67      0.62       112\n",
      "Hospital & Health Care       0.51      0.57      0.54       109\n",
      "Hospitality       0.60      0.66      0.63       171\n",
      "Human Resources       0.45      0.17      0.25        87\n",
      "Individual & Family Services       0.17      0.06      0.09        17\n",
      "Industrial Automation       0.42      0.21      0.28        24\n",
      "Information Services       0.09      0.03      0.05        30\n",
      "Information Technology and Services       0.37      0.46      0.41       476\n",
      "  Insurance       0.55      0.67      0.61        83\n",
      "International Trade and Development       0.33      0.08      0.13        36\n",
      "   Internet       0.23      0.12      0.16       261\n",
      "Investment Management       0.29      0.06      0.10        34\n",
      "Law Practice       0.53      0.63      0.58        51\n",
      "Legal Services       0.50      0.13      0.20        47\n",
      "Leisure, Travel & Tourism       0.47      0.65      0.55       181\n",
      "Logistics and Supply Chain       0.60      0.39      0.47        46\n",
      "Luxury Goods & Jewelry       0.50      0.29      0.37        24\n",
      "  Machinery       0.34      0.22      0.27        68\n",
      "Management Consulting       0.37      0.18      0.24       184\n",
      "   Maritime       0.54      0.52      0.53        25\n",
      "Market Research       0.58      0.29      0.39        24\n",
      "Marketing and Advertising       0.34      0.71      0.46       464\n",
      "Mechanical or Industrial Engineering       0.22      0.14      0.17        84\n",
      "Media Production       0.11      0.03      0.05        68\n",
      "Medical Devices       0.50      0.26      0.34        58\n",
      "Mining & Metals       0.41      0.27      0.33        26\n",
      "Motion Pictures and Film       0.56      0.35      0.43        26\n",
      "Museums and Institutions       0.60      0.38      0.46        24\n",
      "      Music       0.53      0.47      0.50        36\n",
      " Newspapers       0.63      0.38      0.47        32\n",
      "Nonprofit Organization Management       0.48      0.39      0.43       154\n",
      "Oil & Energy       0.38      0.25      0.30        61\n",
      "Online Media       0.17      0.02      0.04        45\n",
      "Performing Arts       0.50      0.30      0.38        23\n",
      "Pharmaceuticals       0.57      0.30      0.39        40\n",
      "Photography       0.62      0.48      0.54        27\n",
      "   Plastics       0.33      0.14      0.20        21\n",
      "   Printing       0.51      0.43      0.47        42\n",
      "Professional Training & Coaching       0.41      0.21      0.28        82\n",
      "Public Relations and Communications       0.39      0.18      0.25        49\n",
      " Publishing       0.36      0.26      0.30       113\n",
      "Real Estate       0.50      0.58      0.54        96\n",
      "Renewables & Environment       0.51      0.47      0.49        79\n",
      "   Research       0.32      0.09      0.14        64\n",
      "Restaurants       0.53      0.33      0.41        27\n",
      "     Retail       0.35      0.14      0.20       131\n",
      "Security and Investigations       0.52      0.50      0.51        26\n",
      "     Sports       0.62      0.38      0.47        74\n",
      "Staffing and Recruiting       0.43      0.50      0.46       103\n",
      "Telecommunications       0.53      0.34      0.42        97\n",
      "Transportation/Trucking/Railroad       0.54      0.41      0.47        34\n",
      "Venture Capital & Private Equity       0.55      0.27      0.36        22\n",
      "  Wholesale       0.24      0.08      0.11        53\n",
      "Wine and Spirits       0.67      0.43      0.53        23\n",
      "\n",
      "avg / total       0.39      0.37      0.35      6719\n",
      "\n",
      "\n",
      "Confusion matrix:\n",
      "[[18  0  1 ...,  0  0  0]\n",
      " [ 0  9  0 ...,  0  0  0]\n",
      " [ 0  0 32 ...,  0  1  0]\n",
      " ..., \n",
      " [ 1  0  0 ...,  6  0  0]\n",
      " [ 0  0  2 ...,  0  4  0]\n",
      " [ 0  0  0 ...,  0  0 10]]\n"
     ]
    }
   ],
   "source": [
    "from sklearn.metrics import classification_report, confusion_matrix, recall_score, precision_score\n",
    "\n",
    "expected = [c['industry'] for c in test_data]\n",
    "predicted = voting.predict(test_data)\n",
    "# predicted = ['Not' if p > 0 else 'Food & Beverages' for p in predicted_prob]\n",
    "\n",
    "print(\"Classification report for classifier:\\n%s\\n\"\n",
    "      % classification_report(expected, predicted))\n",
    "print(\"Confusion matrix:\\n%s\" % confusion_matrix(expected, predicted))"
   ]
  },
  {
   "cell_type": "code",
   "execution_count": 96,
   "metadata": {
    "collapsed": false
   },
   "outputs": [
    {
     "name": "stdout",
     "output_type": "stream",
     "text": [
      "Confusion matrix, without normalization\n",
      "[[22  0  0 ...,  0  0  0]\n",
      " [ 0  5  0 ...,  0  0  0]\n",
      " [ 1  0 35 ...,  0  0  0]\n",
      " ..., \n",
      " [ 1  0  0 ...,  7  0  0]\n",
      " [ 0  0  3 ...,  0  2  0]\n",
      " [ 0  0  0 ...,  0  0 13]]\n"
     ]
    },
    {
     "data": {
      "image/png": "[encoded data removed]",
      "text/plain": [
       "<matplotlib.figure.Figure at 0x7f08b1374240>"
      ]
     },
     "metadata": {},
     "output_type": "display_data"
    }
   ],
   "source": [
    "%matplotlib inline\n",
    "\n",
    "import itertools\n",
    "import numpy as np\n",
    "import matplotlib.pyplot as plt\n",
    "\n",
    "def plot_confusion_matrix(cm, classes,\n",
    "                          normalize=False,\n",
    "                          title='Confusion matrix',\n",
    "                          cmap=plt.cm.Blues):\n",
    "    \"\"\"\n",
    "    This function prints and plots the confusion matrix.\n",
    "    Normalization can be applied by setting `normalize=True`.\n",
    "    \"\"\"\n",
    "    plt.imshow(cm, interpolation='nearest', cmap=cmap)\n",
    "    plt.title(title)\n",
    "    plt.colorbar()\n",
    "    tick_marks = np.arange(len(classes))\n",
    "#     plt.xticks(tick_marks, classes, rotation=45)\n",
    "#     plt.yticks(tick_marks, classes)\n",
    "\n",
    "    if normalize:\n",
    "        cm = cm.astype('float') / cm.sum(axis=1)[:, np.newaxis]\n",
    "        print(\"Normalized confusion matrix\")\n",
    "    else:\n",
    "        print('Confusion matrix, without normalization')\n",
    "\n",
    "    print(cm)\n",
    "\n",
    "    thresh = cm.max() / 2.\n",
    "#     for i, j in itertools.product(range(cm.shape[0]), range(cm.shape[1])):\n",
    "#         plt.text(j, i, cm[i, j],\n",
    "#                  horizontalalignment=\"center\",\n",
    "#                  color=\"white\" if cm[i, j] > thresh else \"black\")\n",
    "\n",
    "    plt.tight_layout()\n",
    "    plt.ylabel('True label')\n",
    "    plt.xlabel('Predicted label')\n",
    "\n",
    "    \n",
    "plt.figure()\n",
    "plot_confusion_matrix(confusion_matrix(expected, predicted), classes=voting.classes_)\n",
    "plt.show()"
   ]
  },
  {
   "cell_type": "code",
   "execution_count": 14,
   "metadata": {
    "collapsed": false
   },
   "outputs": [],
   "source": [
    "with open('similar_industries.json', 'r') as f:\n",
    "    similar_industries = json.load(f)"
   ]
  },
  {
   "cell_type": "code",
   "execution_count": 15,
   "metadata": {
    "collapsed": false
   },
   "outputs": [],
   "source": [
    "\n",
    "def score_similar(estimator, data, actual):\n",
    "    predict = estimator.predict(data)\n",
    "#     actual = [c['industry'] for c in actual]\n",
    "    expected_count = Counter(actual)\n",
    "    results = {}\n",
    "    for num, example in enumerate(actual):\n",
    "        if example == predict[num]:\n",
    "            results[example] = results.get(example, 0) + 1\n",
    "        elif predict[num] in similar_industries.get(example, []):\n",
    "            results[example] = results.get(example, 0) + 0.5\n",
    "\n",
    "    for key, value in results.items():\n",
    "        results[key] = value / expected_count[key]\n",
    "\n",
    "#     print(recall_score(expected, predicted, average='weighted'))\n",
    "    return sum([v * expected_count[key] / len(actual) for key, v in results.items()])"
   ]
  },
  {
   "cell_type": "markdown",
   "metadata": {},
   "source": [
    "### Check accuracy for specific industries"
   ]
  },
  {
   "cell_type": "code",
   "execution_count": 184,
   "metadata": {
    "collapsed": false
   },
   "outputs": [],
   "source": [
    "from collections import Counter, defaultdict\n",
    "\n",
    "test_industries = Counter([c['industry'] for c in test_data])\n",
    "company_accuracy = defaultdict(int)\n",
    "\n",
    "for company, predict in zip(test_data, predicted):\n",
    "    if company['industry'] == predict:\n",
    "        company_accuracy[company['industry']] += 1\n",
    "\n",
    "for key, item in company_accuracy.items():\n",
    "    company_accuracy[key] = round(item / test_industries[key] * 100, 2)"
   ]
  },
  {
   "cell_type": "code",
   "execution_count": 194,
   "metadata": {
    "collapsed": false
   },
   "outputs": [
    {
     "data": {
      "text/plain": [
       "[<matplotlib.lines.Line2D at 0x7f08a56bc6a0>]"
      ]
     },
     "execution_count": 194,
     "metadata": {},
     "output_type": "execute_result"
    },
    {
     "data": {
      "image/png": "[encoded data removed]",
      "text/plain": [
       "<matplotlib.figure.Figure at 0x7f08a5bbf7f0>"
      ]
     },
     "metadata": {},
     "output_type": "display_data"
    }
   ],
   "source": [
    "y = []\n",
    "x = []\n",
    "for key, item in company_accuracy.items():\n",
    "    if industries[key] < 4000:\n",
    "        y.append(item)\n",
    "        x.append(industries[key])\n",
    "    \n",
    "plt.plot(x, y, 'x')"
   ]
  },
  {
   "cell_type": "code",
   "execution_count": null,
   "metadata": {
    "collapsed": true
   },
   "outputs": [],
   "source": []
  }
 ],
 "metadata": {
  "anaconda-cloud": {},
  "kernelspec": {
   "display_name": "Python [masters]",
   "language": "python",
   "name": "Python [masters]"
  },
  "language_info": {
   "codemirror_mode": {
    "name": "ipython",
    "version": 3
   },
   "file_extension": ".py",
   "mimetype": "text/x-python",
   "name": "python",
   "nbconvert_exporter": "python",
   "pygments_lexer": "ipython3",
   "version": "3.5.2"
  }
 },
 "nbformat": 4,
 "nbformat_minor": 0
}
