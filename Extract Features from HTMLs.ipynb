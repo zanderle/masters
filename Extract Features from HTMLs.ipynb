{
 "cells": [
  {
   "cell_type": "markdown",
   "metadata": {},
   "source": [
    "# Features\n",
    "There are many features that we want to extract from the websites:\n",
    "\n",
    "* Size (total, text, css, js) - we have to ignore css and js for now, since we don't have them\n",
    "* Number of images\n",
    "* Number of forms\n",
    "* Number of mailto links\n",
    "* Bag of words (the whole website)\n",
    "* Only specific words (based on tags)\n",
    "* Number of items in navigation menu\n",
    "* Navigation menu\n",
    "* Meta description\n",
    "* Meta keywords\n",
    "\n",
    "Optionally, we might want to extend this to:\n",
    "\n",
    "* Topics (that we extract)\n",
    "* Genres of the sites (extracted as well)\n",
    "* Check for iframes, Bootstrap, React, etc.\n",
    "* Check for Google Analytics\n",
    "* Check for Facebook/Twitter/Google+ meta elements\n",
    "* How much are HTML5 and CSS3 elements used?"
   ]
  },
  {
   "cell_type": "markdown",
   "metadata": {
    "collapsed": true
   },
   "source": [
    "# Load dataset"
   ]
  },
  {
   "cell_type": "code",
   "execution_count": 1,
   "metadata": {
    "collapsed": false
   },
   "outputs": [],
   "source": [
    "import json\n",
    "\n",
    "with open('companies_cross.json', 'r') as f:\n",
    "    companies = json.load(f)"
   ]
  },
  {
   "cell_type": "code",
   "execution_count": 2,
   "metadata": {
    "collapsed": false
   },
   "outputs": [],
   "source": [
    "from collections import Counter\n",
    "\n",
    "# Let's use only companies that we currently have website of (at least some pages)\n",
    "companies = [c for c in companies if c.get('path_to')]\n",
    "\n",
    "# Let's also limit the number of sites (because this is not cleaned yet)\n",
    "companies = [c for c in companies if c.get('current_site_count', 0) < 100]\n",
    "\n",
    "# Let's use only well represented industries\n",
    "industries = Counter([c['industry'] for c in companies])\n",
    "companies = [c for c in companies if industries[c.get('industry')] > 500]"
   ]
  },
  {
   "cell_type": "code",
   "execution_count": 97,
   "metadata": {
    "collapsed": false
   },
   "outputs": [
    {
     "name": "stdout",
     "output_type": "stream",
     "text": [
      "{'path_to': '/mnt/hugedrive/masters-data/fr/monnaiedeparis/www', 'id': 3196368, 'current_site_count': 6, 'company_size_clean': '501-1000', 'site_count': 1, 'domain': 971280, 'industry': 'Museums and Institutions', 'company_size': '501-1000 employees', 'founded': 864, 'website': 'http://www.monnaiedeparis.fr', 'company_name': 'Monnaie de Paris', 'website_lang': 'en'}\n"
     ]
    }
   ],
   "source": [
    "for c in companies:\n",
    "    if c['founded'] < 1000:\n",
    "        print(c)\n",
    "        break"
   ]
  },
  {
   "cell_type": "markdown",
   "metadata": {},
   "source": [
    "## Some helper functions"
   ]
  },
  {
   "cell_type": "code",
   "execution_count": 9,
   "metadata": {
    "collapsed": false
   },
   "outputs": [],
   "source": [
    "import os\n",
    "import gzip\n",
    "\n",
    "import scandir\n",
    "from bs4 import BeautifulSoup\n",
    "\n",
    "from ipyparallel import require\n",
    "\n",
    "import logging\n",
    "\n",
    "# set root logger level\n",
    "root_logger = logging.getLogger()\n",
    "root_logger.setLevel(logging.DEBUG)\n",
    "\n",
    "# setup custom logger\n",
    "logger = logging.getLogger(__name__)\n",
    "handler = logging.FileHandler('extract_features.log')\n",
    "handler.setLevel(logging.INFO)\n",
    "logger.addHandler(handler)\n",
    "\n",
    "\n",
    "@require(BeautifulSoup, 'gzip')\n",
    "def get_soup_from_html_gz(path):\n",
    "    with gzip.open(path, 'rt') as f:  # TODO Apparently, not all files are utf-8 encoded? :o\n",
    "        soup = BeautifulSoup(f, 'html.parser')\n",
    "    return soup\n",
    "\n",
    "\n",
    "@require('os')\n",
    "def save_texts_for_domain(text, path, file_name=None):\n",
    "    file_name = file_name or 'full_texts.txt'\n",
    "    file_name = os.path.join(path, file_name)\n",
    "    with open(file_name, 'w') as f:\n",
    "        f.write(text)\n",
    "    return file_name\n",
    "\n",
    "\n",
    "@require('scandir', 'os')\n",
    "def sites_for_domain(path):\n",
    "    for dirpath, dirs, file_names in scandir.walk(path):\n",
    "        for file_name in file_names:\n",
    "            if file_name.endswith('.gz'):\n",
    "                yield os.path.join(dirpath, file_name)\n",
    "\n",
    "\n",
    "def get_nav_menu(soup):\n",
    "    if not soup.body:\n",
    "        return None\n",
    "    # We expect nav menu in header\n",
    "    # First look for possible headers\n",
    "    header = soup.body.find_all('header')\n",
    "    if not header:\n",
    "        header = soup.body.find_all({'class': ['header', 'menu']})\n",
    "    if not header:\n",
    "        header = soup.body.find_all(id='header')\n",
    "    \n",
    "    # Then look for nav menu in that header\n",
    "    if header:\n",
    "        header = header[0]\n",
    "        has_header = True\n",
    "    # If not found, look for a menu anywhere\n",
    "    else:\n",
    "        has_header = False\n",
    "        header = soup.body\n",
    "        \n",
    "    nav = header.find('nav')\n",
    "    if not nav:\n",
    "        nav = soup.body.find('nav')\n",
    "    if not nav:\n",
    "        nav = header.find(class_='nav')\n",
    "    if not nav:\n",
    "        nav = header.find(id='nav')\n",
    "    if not nav:\n",
    "        nav = header.find(class_='menu')\n",
    "    if not nav:\n",
    "        nav = header.find(class_='main-menu')\n",
    "\n",
    "    if nav:\n",
    "        return [item for li in nav.find_all('li') for item in li.stripped_strings]  # TODO this doesn't deal with submenus\n",
    "    elif has_header:\n",
    "        return [item for li in header.find_all('li') for item in li.stripped_strings]\n",
    "    else:\n",
    "        return []\n",
    "\n",
    "\n",
    "@require('os', save_texts_for_domain)\n",
    "def get_texts_for_domain(path, get_text, force_read=False, file_name=None):\n",
    "    file_name = file_name or 'full_texts.txt'\n",
    "    text_file = os.path.join(path, file_name)\n",
    "    if not os.path.exists(text_file) or force_read:\n",
    "        try:\n",
    "            text = get_text(path)\n",
    "            text_file = save_texts_for_domain(text, path, file_name=file_name)\n",
    "        except Exception as e:\n",
    "#             print(e)\n",
    "            text = None\n",
    "            text_file = ''\n",
    "    else:\n",
    "        with open(text_file, 'r') as f:\n",
    "            text = f.read()\n",
    "    return text, text_file\n",
    "\n",
    "\n",
    "@require(get_soup_from_html_gz, sites_for_domain)\n",
    "def get_full_text(path):\n",
    "    text = ''\n",
    "    for site_path in sites_for_domain(path):\n",
    "        body = get_soup_from_html_gz(site_path).body\n",
    "        if body:\n",
    "            # We assume this is noise\n",
    "            for script in body.find_all('script'):\n",
    "                script.clear()\n",
    "            text += body.get_text()\n",
    "            text += '\\n'\n",
    "    return text\n",
    "\n",
    "\n",
    "@require(get_soup_from_html_gz, sites_for_domain, get_nav_menu)\n",
    "def get_nav_text(path):\n",
    "    text = ''\n",
    "    for site_path in sites_for_domain(path):\n",
    "        soup = get_soup_from_html_gz(site_path)\n",
    "        text = get_nav_menu(soup)\n",
    "        if text:\n",
    "            text = ' '.join(text)\n",
    "            break\n",
    "        else:\n",
    "            text = ''\n",
    "    return text\n",
    "\n",
    "\n",
    "def get_meta_keywords(soup):\n",
    "    keywords = soup.find('meta', attrs={'name':'keywords'})\n",
    "    if keywords:\n",
    "        return [k.strip() for k in keywords.get('content', '').split(',')]\n",
    "    else:\n",
    "        return None\n",
    "\n",
    "\n",
    "def get_meta_description(soup):\n",
    "    description = soup.find('meta', attrs={'name':'description'})\n",
    "    if description:\n",
    "        return description.get('content')\n",
    "    else:\n",
    "        return None\n",
    "\n",
    "\n",
    "def get_site_title(soup):\n",
    "    title = soup.find('title')\n",
    "    if title:\n",
    "        return title.string\n",
    "    else:\n",
    "        return None\n",
    "\n",
    "\n",
    "@require(get_soup_from_html_gz, sites_for_domain, get_meta_keywords)\n",
    "def get_meta_keywords_text(path):\n",
    "    text = ''\n",
    "    for site_path in sites_for_domain(path):\n",
    "        soup = get_soup_from_html_gz(site_path)\n",
    "        text = get_meta_keywords(soup)\n",
    "        if text:\n",
    "            text = ' '.join(text)\n",
    "            break\n",
    "        else:\n",
    "            text = ''\n",
    "    return text\n",
    "\n",
    "\n",
    "@require(get_soup_from_html_gz, sites_for_domain, get_site_title)\n",
    "def get_titles_text(path):\n",
    "    text = ''\n",
    "    for site_path in sites_for_domain(path):\n",
    "        soup = get_soup_from_html_gz(site_path)\n",
    "        title = get_site_title(soup)\n",
    "        if title:\n",
    "            text += title\n",
    "            text += '\\n'\n",
    "    return text\n",
    "\n",
    "\n",
    "@require(get_soup_from_html_gz, sites_for_domain, get_meta_description)\n",
    "def get_meta_descriptions_text(path):\n",
    "    text = ''\n",
    "    prev_description = None\n",
    "    for site_path in sites_for_domain(path):\n",
    "        soup = get_soup_from_html_gz(site_path)\n",
    "        description = get_meta_description(soup)\n",
    "        if description:\n",
    "            if prev_description != description:\n",
    "                prev_description = description\n",
    "                text += description\n",
    "                text += '\\n'\n",
    "    return text"
   ]
  },
  {
   "cell_type": "markdown",
   "metadata": {},
   "source": [
    "## Set up parallel computing"
   ]
  },
  {
   "cell_type": "code",
   "execution_count": 4,
   "metadata": {
    "collapsed": true
   },
   "outputs": [],
   "source": [
    "from ipyparallel import Client\n",
    "\n",
    "\n",
    "#  Let's parallelize this\n",
    "c = Client()\n",
    "dv = c[:]\n",
    "dv.block = False\n",
    "dv\n",
    "lview = c.load_balanced_view()"
   ]
  },
  {
   "cell_type": "code",
   "execution_count": 11,
   "metadata": {
    "collapsed": false
   },
   "outputs": [
    {
     "name": "stderr",
     "output_type": "stream",
     "text": [
      "100%|██████████| 171266/171266 [00:16<00:00, 10355.58it/s]\n"
     ]
    },
    {
     "data": {
      "text/plain": [
       "0.3290962596195392"
      ]
     },
     "execution_count": 11,
     "metadata": {},
     "output_type": "execute_result"
    }
   ],
   "source": [
    "yes = 0\n",
    "for company in tqdm(companies):\n",
    "    nav, path = get_texts_for_domain(company['path_to'], None, file_name='keywords.txt')\n",
    "    if nav:\n",
    "        yes += 1\n",
    "\n",
    "yes / len(companies)\n",
    "\n",
    "# 64% nav\n",
    "# 93% titles\n",
    "# 60% descriptions\n",
    "# 32% keywords"
   ]
  },
  {
   "cell_type": "code",
   "execution_count": 6,
   "metadata": {
    "collapsed": false
   },
   "outputs": [
    {
     "name": "stderr",
     "output_type": "stream",
     "text": [
      "100%|██████████| 171266/171266 [2:50:24<00:00, 16.75it/s]\n",
      "100%|██████████| 342532/342532 [01:59<00:00, 2860.47it/s]\n"
     ]
    }
   ],
   "source": [
    "# Parallel processing of meta tags (to speed up further computing)\n",
    "from tqdm import tqdm, tqdm_notebook\n",
    "\n",
    "results = []\n",
    "for company in tqdm(companies):\n",
    "    text = ''\n",
    "    path = company['path_to']\n",
    "    ar = lview.apply(get_texts_for_domain, path, get_full_text, file_name='full_texts.txt', force_read=True)\n",
    "    results.append(ar)\n",
    "#     ar = lview.apply(get_texts_for_domain, path, get_meta_descriptions_text, file_name='descriptions.txt')\n",
    "#     results.append(ar)\n",
    "    ar = lview.apply(get_texts_for_domain, path, get_meta_keywords_text, file_name='keywords.txt', force_read=True)\n",
    "#     results.append(ar)\n",
    "#     ar = lview.apply(get_texts_for_domain, path, get_titles_text, file_name='titles.txt')\n",
    "#     results.append(ar)\n",
    "#     ar = lview.apply(get_texts_for_domain, path, get_nav_text, file_name='nav_menu.txt', force_read=True)\n",
    "    results.append(ar)\n",
    "\n",
    "for r in tqdm(results):\n",
    "    r.get()"
   ]
  },
  {
   "cell_type": "markdown",
   "metadata": {},
   "source": [
    "# Get bag of words for websites"
   ]
  },
  {
   "cell_type": "code",
   "execution_count": null,
   "metadata": {
    "collapsed": false,
    "scrolled": true
   },
   "outputs": [],
   "source": [
    "from tqdm import tqdm, tqdm_notebook\n",
    "from sklearn.utils import shuffle\n",
    "\n",
    "# Let's shuffle the data first\n",
    "companies = shuffle(companies)\n",
    "train_data = companies[:100000]\n",
    "target = []\n",
    "\n",
    "texts = []\n",
    "for company in tqdm(train_data):\n",
    "    path = company['path_to']\n",
    "    try:\n",
    "        text, file_path = get_texts_for_domain(path, get_full_text)\n",
    "        \n",
    "#         if text:\n",
    "#             texts.append(file_path)\n",
    "#             target.append(company['industry'])\n",
    "        path = file_path if text else '/dev/null'\n",
    "        texts.append(path)\n",
    "        target.append(company['industry'])\n",
    "    except Exception as e:\n",
    "        print(e)\n",
    "        logger.error(str(e))\n",
    "    \n",
    "# Accuracy about 47%. 48% with removed scripts\n",
    "# 42% with balanced classifier\n",
    "# 46% with ngrams 45% 1-4\n",
    "# 45% lemmatize\n"
   ]
  },
  {
   "cell_type": "markdown",
   "metadata": {},
   "source": [
    "1. Precision, Recall, curve (ROC), lift curve, confusion matrix, mogoce tudi clustering confusion matrixa\n",
    "2. Rocno dolocanje napake\n",
    "3. Stacking (potrebujem verjetnost)\n",
    "4. "
   ]
  },
  {
   "cell_type": "markdown",
   "metadata": {},
   "source": [
    "# Get bag of words on nav menus"
   ]
  },
  {
   "cell_type": "code",
   "execution_count": null,
   "metadata": {
    "collapsed": false,
    "scrolled": true
   },
   "outputs": [],
   "source": [
    "from tqdm import tqdm\n",
    "from sklearn.utils import shuffle\n",
    "\n",
    "# Let's shuffle the data first\n",
    "companies = shuffle(companies)\n",
    "train_data = companies[:160000]\n",
    "target = []\n",
    "\n",
    "texts = []\n",
    "for company in tqdm(train_data):\n",
    "    text = ''\n",
    "    path = company['path_to']\n",
    "    try:\n",
    "        text, file_path = get_texts_for_domain(path, get_nav_text, file_name='nav_menu.txt')\n",
    "        # If we can't extract, fallback to full website\n",
    "#         if not text:\n",
    "#             text, file_path = get_texts_for_domain(path, get_full_text)\n",
    "        if text:\n",
    "            target.append(company['industry'])\n",
    "            texts.append(file_path)\n",
    "    except Exception as e:\n",
    "        print(e)\n",
    "        logger.error(str(e))\n",
    "\n",
    "# 36% with replacing when no nav menu\n",
    "# Same with stop words and ngrams\n",
    "# 30% balanced"
   ]
  },
  {
   "cell_type": "markdown",
   "metadata": {},
   "source": [
    "# Get bag of words on meta tags"
   ]
  },
  {
   "cell_type": "code",
   "execution_count": null,
   "metadata": {
    "collapsed": false,
    "scrolled": true
   },
   "outputs": [],
   "source": [
    "from tqdm import tqdm\n",
    "from sklearn.utils import shuffle\n",
    "\n",
    "\n",
    "# Let's shuffle the data first\n",
    "companies = shuffle(companies)\n",
    "train_data = companies[:160000]\n",
    "target = []\n",
    "\n",
    "texts = []\n",
    "for company in tqdm(train_data):\n",
    "    text = ''\n",
    "    path = company['path_to']\n",
    "    try:\n",
    "#         text, file_path = get_texts_for_domain(path, get_meta_descriptions_text, file_name='descriptions.txt')\n",
    "#         text, file_path = get_texts_for_domain(path, get_titles_text, file_name='titles.txt')\n",
    "        text, file_path = get_texts_for_domain(path, get_meta_keywords_text, file_name='keywords.txt')\n",
    "        if text:\n",
    "            target.append(company['industry'])\n",
    "            texts.append(file_path)\n",
    "    except Exception as e:\n",
    "        logger.error(str(e))\n",
    "\n",
    "# Accuracy about 41% for descriptions\n",
    "# 35% for titles\n",
    "# 36% for keywords\n",
    "# Problem with all of these is that the accuracy is less, because a lot don't have these meta tags\n"
   ]
  },
  {
   "cell_type": "code",
   "execution_count": null,
   "metadata": {
    "collapsed": true
   },
   "outputs": [],
   "source": [
    "# Create transformers\n",
    "from sklearn.preprocessing import FunctionTransformer\n",
    "\n",
    "def extract_from_company(companies, func, file_name=None):\n",
    "    paths = []\n",
    "    for company in companies:\n",
    "        text, file_path = get_texts_for_domain(company['path_to'], func, file_name)\n",
    "        path = file_path if text else '/dev/null'\n",
    "        paths.append(path)\n",
    "    print(len(paths))\n",
    "    return paths\n",
    "\n",
    "def get_full_text_from_company(companies):\n",
    "    return extract_from_company(companies, get_full_text)\n",
    "\n",
    "def get_nav_menus_from_company(companies):\n",
    "    return extract_from_company(companies, get_nav_text, file_name='nav_menu.txt')\n",
    "\n",
    "def get_descriptions_from_company(companies):\n",
    "    return extract_from_company(companies, get_meta_descriptions_text, file_name='descriptions.txt')\n",
    "\n",
    "def get_titles_from_company(companies):\n",
    "    return extract_from_company(companies, get_titles_text, file_name='titles.txt')\n",
    "\n",
    "\n",
    "full_text_transformer = FunctionTransformer(get_full_text_from_company, validate=False)\n",
    "nav_menus_transformer = FunctionTransformer(get_nav_menus_from_company, validate=False)\n",
    "descriptions_transformer = FunctionTransformer(get_descriptions_from_company, validate=False)\n",
    "titles_transformer = FunctionTransformer(get_titles_from_company, validate=False)"
   ]
  },
  {
   "cell_type": "markdown",
   "metadata": {},
   "source": [
    "# Extract different features from websites"
   ]
  },
  {
   "cell_type": "code",
   "execution_count": 12,
   "metadata": {
    "collapsed": false
   },
   "outputs": [
    {
     "name": "stderr",
     "output_type": "stream",
     "text": [
      "100%|██████████| 120000/120000 [20:07<00:00, 99.37it/s]\n",
      " 23%|██▎       | 27820/120000 [00:00<00:01, 90085.10it/s]"
     ]
    },
    {
     "name": "stdout",
     "output_type": "stream",
     "text": [
      "UnicodeDecodeError('utf-8' codec can't decode byte 0xed in position 8606: invalid continuation byte)\n",
      "UnicodeDecodeError('utf-8' codec can't decode byte 0xed in position 14263: invalid continuation byte)\n"
     ]
    },
    {
     "name": "stderr",
     "output_type": "stream",
     "text": [
      " 50%|█████     | 60093/120000 [01:36<1:47:55,  9.25it/s]"
     ]
    },
    {
     "name": "stdout",
     "output_type": "stream",
     "text": [
      "UnicodeDecodeError('utf-8' codec can't decode byte 0xed in position 11803: invalid continuation byte)\n"
     ]
    },
    {
     "name": "stderr",
     "output_type": "stream",
     "text": [
      " 71%|███████▏  | 85614/120000 [10:19<51:44, 11.08it/s]"
     ]
    },
    {
     "name": "stdout",
     "output_type": "stream",
     "text": [
      "UnicodeDecodeError('utf-8' codec can't decode byte 0xed in position 120756: invalid continuation byte)\n"
     ]
    },
    {
     "name": "stderr",
     "output_type": "stream",
     "text": [
      " 82%|████████▏ | 98001/120000 [14:27<29:56, 12.25it/s]"
     ]
    },
    {
     "name": "stdout",
     "output_type": "stream",
     "text": [
      "UnicodeDecodeError('utf-8' codec can't decode byte 0xed in position 24177: invalid continuation byte)\n"
     ]
    },
    {
     "name": "stderr",
     "output_type": "stream",
     "text": [
      " 90%|████████▉ | 107490/120000 [17:33<15:58, 13.06it/s]"
     ]
    },
    {
     "name": "stdout",
     "output_type": "stream",
     "text": [
      "UnicodeDecodeError('utf-8' codec can't decode byte 0xed in position 6738: invalid continuation byte)\n"
     ]
    },
    {
     "name": "stderr",
     "output_type": "stream",
     "text": [
      " 96%|█████████▌| 115469/120000 [20:17<13:48,  5.47it/s]"
     ]
    },
    {
     "name": "stdout",
     "output_type": "stream",
     "text": [
      "UnicodeDecodeError('utf-8' codec can't decode byte 0xed in position 2957: invalid continuation byte)\n"
     ]
    },
    {
     "name": "stderr",
     "output_type": "stream",
     "text": [
      "100%|██████████| 120000/120000 [21:44<00:00, 91.99it/s]\n"
     ]
    }
   ],
   "source": [
    "from tqdm import tqdm\n",
    "import numpy as np\n",
    "from sklearn.utils import shuffle\n",
    "from ipyparallel import require\n",
    "\n",
    "\n",
    "companies = shuffle(companies)\n",
    "train_data = companies[:120000]\n",
    "target = []\n",
    "\n",
    "features = []\n",
    "\n",
    "@require(sites_for_domain, get_soup_from_html_gz)\n",
    "def get_features(path):\n",
    "    image_count = 0\n",
    "    sites = 0\n",
    "    form_count = 0\n",
    "    a_count = 0\n",
    "    link_count = 0\n",
    "    meta_count = 0\n",
    "    for site_path in sites_for_domain(path):\n",
    "        sites += 1\n",
    "        soup = get_soup_from_html_gz(site_path)\n",
    "        image_count += len(soup.find_all('img'))\n",
    "        form_count += len(soup.find_all('form'))\n",
    "        a_count += len(soup.find_all('a'))\n",
    "        link_count += len(soup.find_all('link'))\n",
    "        meta_count += len(soup.find_all('meta'))\n",
    "    avg_image_count = image_count / sites if sites else 0\n",
    "    return [sites, image_count, avg_image_count, form_count, link_count, meta_count]\n",
    "\n",
    "\n",
    "results = []\n",
    "for i, company in enumerate(tqdm(train_data)):\n",
    "#     if company['founded'] > 1800:\n",
    "    path = company['path_to']\n",
    "    ar = lview.apply_async(get_features, path)\n",
    "    results.append(ar)\n",
    "\n",
    "for i, company in enumerate(tqdm(train_data)):\n",
    "    try:\n",
    "        features.append(results[i].get())\n",
    "#         age = 'young' if company['founded'] > 2010 else 'old'\n",
    "#         target.append(age)\n",
    "        target.append(company['company_size_clean'])\n",
    "    except Exception as e:\n",
    "        print(e)\n",
    "\n",
    "# Accuracy 25% for company_size\n",
    "# 26% for balanced classifier\n"
   ]
  },
  {
   "cell_type": "code",
   "execution_count": 24,
   "metadata": {
    "collapsed": false
   },
   "outputs": [
    {
     "data": {
      "text/plain": [
       "[5, 63, 12.6, 0, 26, 5]"
      ]
     },
     "execution_count": 24,
     "metadata": {},
     "output_type": "execute_result"
    }
   ],
   "source": [
    "features[0]"
   ]
  },
  {
   "cell_type": "code",
   "execution_count": 95,
   "metadata": {
    "collapsed": false,
    "scrolled": true
   },
   "outputs": [
    {
     "data": {
      "text/plain": [
       "SGDClassifier(alpha=0.1, average=False, class_weight=None, epsilon=1,\n",
       "       eta0=0.0, fit_intercept=True, l1_ratio=0.15,\n",
       "       learning_rate='optimal', loss='hinge', n_iter=5, n_jobs=6,\n",
       "       penalty='l2', power_t=0.5, random_state=None, shuffle=True,\n",
       "       verbose=0, warm_start=False)"
      ]
     },
     "execution_count": 95,
     "metadata": {},
     "output_type": "execute_result"
    }
   ],
   "source": [
    "# Try SGD Classifier\n",
    "from sklearn.linear_model import SGDRegressor, SGDClassifier\n",
    "from sklearn.preprocessing import StandardScaler\n",
    "scaler = StandardScaler()\n",
    "\n",
    "# clf = SGDRegressor(loss='huber', penalty='l2', alpha=0.001,\n",
    "#                                   epsilon=0.25)\n",
    "\n",
    "clf = SGDClassifier(loss='hinge', n_jobs=6, alpha=0.1, epsilon=1)\n",
    "\n",
    "scaler.fit(features)\n",
    "# clf.fit(scaler.transform(features), [sizes_cont[c] for c in target])\n",
    "# clf.fit(scaler.transform(features), target)\n",
    "# clf.fit(features, target)  # 27% - 62%\n",
    "clf.fit(features, [sizes_small[c] for c in target])"
   ]
  },
  {
   "cell_type": "code",
   "execution_count": 91,
   "metadata": {
    "collapsed": false
   },
   "outputs": [
    {
     "data": {
      "text/plain": [
       "GridSearchCV(cv=None, error_score='raise',\n",
       "       estimator=SGDClassifier(alpha=0.001, average=False, class_weight=None, epsilon=0.1,\n",
       "       eta0=0.0, fit_intercept=True, l1_ratio=0.15,\n",
       "       learning_rate='optimal', loss='hinge', n_iter=5, n_jobs=6,\n",
       "       penalty='l2', power_t=0.5, random_state=None, shuffle=True,\n",
       "       verbose=0, warm_start=False),\n",
       "       fit_params={}, iid=True, n_jobs=5,\n",
       "       param_grid={'alpha': [0.1, 0.001, 0.0001], 'epsilon': [1, 1.5, 5]},\n",
       "       pre_dispatch='2*n_jobs', refit=True, scoring=None, verbose=0)"
      ]
     },
     "execution_count": 91,
     "metadata": {},
     "output_type": "execute_result"
    }
   ],
   "source": [
    "from sklearn.grid_search import GridSearchCV\n",
    "\n",
    "params = {\n",
    "    'alpha': [0.1, 0.001, 0.0001],\n",
    "    'epsilon': [1, 1.5, 5]\n",
    "}\n",
    "\n",
    "grid = GridSearchCV(clf, param_grid=params, n_jobs=5)\n",
    "grid.fit(features, [sizes_small[c] for c in target])"
   ]
  },
  {
   "cell_type": "code",
   "execution_count": 73,
   "metadata": {
    "collapsed": false
   },
   "outputs": [
    {
     "data": {
      "text/plain": [
       "GridSearchCV(cv=None, error_score='raise',\n",
       "       estimator=SGDRegressor(alpha=0.001, average=False, epsilon=0.25, eta0=0.01,\n",
       "       fit_intercept=True, l1_ratio=0.15, learning_rate='invscaling',\n",
       "       loss='huber', n_iter=5, penalty='l2', power_t=0.25,\n",
       "       random_state=None, shuffle=True, verbose=0, warm_start=False),\n",
       "       fit_params={}, iid=True, n_jobs=5,\n",
       "       param_grid={'alpha': [0.1, 0.001, 0.0001], 'epsilon': [1, 1.5, 5]},\n",
       "       pre_dispatch='2*n_jobs', refit=True, scoring='mean_absolute_error',\n",
       "       verbose=0)"
      ]
     },
     "execution_count": 73,
     "metadata": {},
     "output_type": "execute_result"
    }
   ],
   "source": [
    "from sklearn.grid_search import GridSearchCV\n",
    "\n",
    "params = {\n",
    "    'alpha': [0.1, 0.001, 0.0001],\n",
    "    'epsilon': [1, 1.5, 5]\n",
    "}\n",
    "\n",
    "grid = GridSearchCV(clf, param_grid=params, n_jobs=5, scoring='mean_absolute_error')\n",
    "grid.fit(scaler.transform(features), [sizes_cont[c] for c in target])"
   ]
  },
  {
   "cell_type": "code",
   "execution_count": 92,
   "metadata": {
    "collapsed": false
   },
   "outputs": [
    {
     "data": {
      "text/plain": [
       "[mean: 0.63213, std: 0.00097, params: {'alpha': 0.1, 'epsilon': 1},\n",
       " mean: 0.57112, std: 0.04588, params: {'alpha': 0.1, 'epsilon': 1.5},\n",
       " mean: 0.60108, std: 0.03052, params: {'alpha': 0.1, 'epsilon': 5},\n",
       " mean: 0.47769, std: 0.03408, params: {'alpha': 0.001, 'epsilon': 1},\n",
       " mean: 0.53987, std: 0.08037, params: {'alpha': 0.001, 'epsilon': 1.5},\n",
       " mean: 0.58302, std: 0.04839, params: {'alpha': 0.001, 'epsilon': 5},\n",
       " mean: 0.46948, std: 0.15469, params: {'alpha': 0.0001, 'epsilon': 1},\n",
       " mean: 0.62754, std: 0.00392, params: {'alpha': 0.0001, 'epsilon': 1.5},\n",
       " mean: 0.40717, std: 0.15753, params: {'alpha': 0.0001, 'epsilon': 5}]"
      ]
     },
     "execution_count": 92,
     "metadata": {},
     "output_type": "execute_result"
    }
   ],
   "source": [
    "grid.grid_scores_"
   ]
  },
  {
   "cell_type": "code",
   "execution_count": null,
   "metadata": {
    "collapsed": false
   },
   "outputs": [],
   "source": [
    "# Try RandomForests\n",
    "from sklearn.ensemble import RandomForestClassifier\n",
    "\n",
    "rf = RandomForestClassifier(n_jobs=6)\n",
    "\n",
    "rf.fit(features, target)  # 26% - 67%"
   ]
  },
  {
   "cell_type": "code",
   "execution_count": 82,
   "metadata": {
    "collapsed": false,
    "scrolled": true
   },
   "outputs": [
    {
     "name": "stderr",
     "output_type": "stream",
     "text": [
      "100%|██████████| 10000/10000 [00:58<00:00, 170.13it/s]\n",
      " 87%|████████▋ | 8661/10000 [03:22<00:37, 36.03it/s]"
     ]
    },
    {
     "name": "stdout",
     "output_type": "stream",
     "text": [
      "UnicodeDecodeError('utf-8' codec can't decode byte 0xed in position 17238: invalid continuation byte)\n"
     ]
    },
    {
     "name": "stderr",
     "output_type": "stream",
     "text": [
      "100%|██████████| 10000/10000 [03:52<00:00, 43.00it/s]\n"
     ]
    }
   ],
   "source": [
    "texts = []\n",
    "# Test on 1000 samples\n",
    "test_companies = companies[-10000:]\n",
    "results = []\n",
    "\n",
    "features_test = []\n",
    "target_test = []\n",
    "\n",
    "# for i, company in enumerate(tqdm(test_companies)):\n",
    "#     path = company['path_to']\n",
    "#     ar = lview.apply_async(get_features, path)\n",
    "#     results.append(ar)\n",
    "\n",
    "# for i, company in enumerate(tqdm(test_companies)):\n",
    "#     try:\n",
    "#         features_test.append(results[i].get())\n",
    "# #         age = 'young' if company['founded'] > 2010 else 'old'\n",
    "# #         target_test.append(age)\n",
    "#         target_test.append(company['company_size_clean'])\n",
    "#     except Exception as e:\n",
    "#         print(e)\n",
    "\n",
    "# score = clf.score(scaler.transform(features_test), [sizes_cont[c] for c in target_test])\n",
    "# score = clf.score(features_test, target_test)\n",
    "# score = rf.score(features_test, target_test)\n",
    "score = clf.score(features_test, [sizes_small[c] for c in target_test])\n",
    "\n",
    "# Mean absolute error for founded - 21.38 years\n",
    "# F1 for young vs old - 32% (72% recall, 43% accuracy)\n",
    "# Mean absolute error for company size - 657.78"
   ]
  },
  {
   "cell_type": "code",
   "execution_count": 96,
   "metadata": {
    "collapsed": false
   },
   "outputs": [
    {
     "name": "stdout",
     "output_type": "stream",
     "text": [
      "Classification report for classifier:\n",
      "             precision    recall  f1-score   support\n",
      "\n",
      "        big       0.12      0.00      0.01      1036\n",
      "     medium       0.30      0.39      0.34      2618\n",
      "      small       0.66      0.68      0.67      6345\n",
      "\n",
      "avg / total       0.51      0.53      0.51      9999\n",
      "\n",
      "\n"
     ]
    }
   ],
   "source": [
    "from sklearn.metrics import classification_report\n",
    "\n",
    "expected = [sizes_small[c] for c in target_test]\n",
    "predicted = clf.predict(features_test)\n",
    "# predicted = ['Not' if p > 0 else 'Food & Beverages' for p in predicted_prob]\n",
    "\n",
    "print(\"Classification report for classifier:\\n%s\\n\"\n",
    "      % classification_report(expected, predicted))\n"
   ]
  },
  {
   "cell_type": "code",
   "execution_count": 80,
   "metadata": {
    "collapsed": false
   },
   "outputs": [
    {
     "data": {
      "text/plain": [
       "0.58879439719859927"
      ]
     },
     "execution_count": 80,
     "metadata": {},
     "output_type": "execute_result"
    }
   ],
   "source": [
    "score"
   ]
  },
  {
   "cell_type": "code",
   "execution_count": null,
   "metadata": {
    "collapsed": false
   },
   "outputs": [],
   "source": [
    "clf.decision_function(features_test)"
   ]
  },
  {
   "cell_type": "code",
   "execution_count": null,
   "metadata": {
    "collapsed": false
   },
   "outputs": [],
   "source": [
    "from sklearn.metrics import recall_score, accuracy_score, f1_score\n",
    "\n",
    "# predicted = clf.predict(scaler.transform(features_test))\n",
    "predicted = clf.predict(features_test)\n",
    "predicted = ['old' if a < -24 else 'young' for a in clf.decision_function(features_test)]\n",
    "\n",
    "print(recall_score(target_test, predicted, pos_label='young'))\n",
    "print(accuracy_score(target_test, predicted))\n",
    "print(f1_score(target_test, predicted, pos_label='young'))\n",
    "\n",
    "# sum([1 if a == 'old' else 0 for a in predicted])\n"
   ]
  },
  {
   "cell_type": "code",
   "execution_count": 54,
   "metadata": {
    "collapsed": false
   },
   "outputs": [
    {
     "data": {
      "text/plain": [
       "434.32175009589594"
      ]
     },
     "execution_count": 54,
     "metadata": {},
     "output_type": "execute_result"
    }
   ],
   "source": [
    "from sklearn.metrics import mean_absolute_error\n",
    "mean_absolute_error([sizes_cont[c] for c in target_test], clf.predict(scaler.transform(features_test)))"
   ]
  },
  {
   "cell_type": "code",
   "execution_count": 72,
   "metadata": {
    "collapsed": false
   },
   "outputs": [
    {
     "data": {
      "text/plain": [
       "0.7788894447223612"
      ]
     },
     "execution_count": 72,
     "metadata": {},
     "output_type": "execute_result"
    }
   ],
   "source": [
    "\n",
    "predicted_cont = grid.predict(scaler.transform(features_test))\n",
    "predicted = []\n",
    "for pc in predicted_cont:\n",
    "    p = '10,001+'\n",
    "    for s in inv_sizes:\n",
    "        if pc <= s[0]:\n",
    "            p = s[1]\n",
    "            break\n",
    "    predicted.append(p)\n",
    "\n",
    "correct = 0\n",
    "for actual, predict in zip(target_test, predicted):\n",
    "    actual_c = sizes.get(actual)\n",
    "    predict_c = sizes.get(predict)\n",
    "    if abs(predict_c - actual_c) < 2:\n",
    "        correct += 1\n",
    "\n",
    "correct/len(target_test)"
   ]
  },
  {
   "cell_type": "code",
   "execution_count": 88,
   "metadata": {
    "collapsed": false
   },
   "outputs": [],
   "source": [
    "sizes = {\n",
    "    '1': 1,\n",
    "    '1-10': 2,\n",
    "    '11-50': 3,\n",
    "    '51-200': 4,\n",
    "    '201-500': 5,\n",
    "    '501-1000': 6,\n",
    "    '1001-5000': 7,\n",
    "    '5001-10,000': 8,\n",
    "    '10,001+': 9,\n",
    "}\n",
    "\n",
    "sizes_small = {\n",
    "    '1': 'small',\n",
    "    '1-10': 'small',\n",
    "    '11-50': 'small',\n",
    "    '51-200': 'medium',\n",
    "    '201-500': 'medium',\n",
    "    '501-1000': 'big',\n",
    "    '1001-5000': 'big',\n",
    "    '5001-10,000': 'big',\n",
    "    '10,001+': 'big',\n",
    "}\n",
    "\n",
    "sizes_cont = {\n",
    "    '1': 1,\n",
    "    '1-10': 5,\n",
    "    '11-50': 30,\n",
    "    '51-200': 125,\n",
    "    '201-500': 350,\n",
    "    '501-1000': 750,\n",
    "    '1001-5000': 3000,\n",
    "    '5001-10,000': 7500,\n",
    "    '10,001+': 10000,\n",
    "}\n",
    "\n",
    "inv_sizes = [\n",
    "    (1, '1'),\n",
    "    (10, '1-10'),\n",
    "    (50, '11-50'),\n",
    "    (200, '51-200'),\n",
    "    (500, '201-500'),\n",
    "    (1000, '501-1000'),\n",
    "    (5000, '1001-5000'),\n",
    "    (10000, '5001-10,000')\n",
    "            ]"
   ]
  },
  {
   "cell_type": "code",
   "execution_count": 18,
   "metadata": {
    "collapsed": false
   },
   "outputs": [
    {
     "data": {
      "text/plain": [
       "'1-10'"
      ]
     },
     "execution_count": 18,
     "metadata": {},
     "output_type": "execute_result"
    }
   ],
   "source": [
    "target_test[143]"
   ]
  },
  {
   "cell_type": "code",
   "execution_count": 19,
   "metadata": {
    "collapsed": false
   },
   "outputs": [
    {
     "data": {
      "text/plain": [
       "0.6818409204602301"
      ]
     },
     "execution_count": 19,
     "metadata": {},
     "output_type": "execute_result"
    }
   ],
   "source": [
    "# Score not so harshly\n",
    "correct = 0\n",
    "\n",
    "predicted = clf.predict(features_test)\n",
    "for actual, predict in zip(target_test, predicted):\n",
    "    actual_c = sizes.get(actual)\n",
    "    predict_c = sizes.get(predict)\n",
    "    if abs(predict_c - actual_c) < 2:\n",
    "        correct += 1\n",
    "\n",
    "correct/len(target_test)"
   ]
  },
  {
   "cell_type": "code",
   "execution_count": null,
   "metadata": {
    "collapsed": false
   },
   "outputs": [],
   "source": [
    "# See the mistakes\n",
    "for i, com in enumerate(target_test[:200]):\n",
    "    predicted = clf.predict([features_test[i]])[0]\n",
    "    actual = com['company_size_clean']\n",
    "    if not predicted == actual:\n",
    "        print(\"Predicted - Actual: %s - %s\" % (predicted, actual))"
   ]
  },
  {
   "cell_type": "code",
   "execution_count": null,
   "metadata": {
    "collapsed": false
   },
   "outputs": [],
   "source": [
    "# See the industries\n",
    "from collections import Counter\n",
    "\n",
    "industries = Counter([c['industry'] for c in companies])\n",
    "industries.most_common()"
   ]
  },
  {
   "cell_type": "code",
   "execution_count": null,
   "metadata": {
    "collapsed": false
   },
   "outputs": [],
   "source": [
    "for k in sorted(industries.most_common()):\n",
    "    print(k[0])"
   ]
  },
  {
   "cell_type": "code",
   "execution_count": null,
   "metadata": {
    "collapsed": true
   },
   "outputs": [],
   "source": [
    "predicted"
   ]
  },
  {
   "cell_type": "code",
   "execution_count": null,
   "metadata": {
    "collapsed": true
   },
   "outputs": [],
   "source": []
  }
 ],
 "metadata": {
  "anaconda-cloud": {},
  "kernelspec": {
   "display_name": "Python [masters]",
   "language": "python",
   "name": "Python [masters]"
  },
  "language_info": {
   "codemirror_mode": {
    "name": "ipython",
    "version": 3
   },
   "file_extension": ".py",
   "mimetype": "text/x-python",
   "name": "python",
   "nbconvert_exporter": "python",
   "pygments_lexer": "ipython3",
   "version": "3.5.2"
  }
 },
 "nbformat": 4,
 "nbformat_minor": 0
}
