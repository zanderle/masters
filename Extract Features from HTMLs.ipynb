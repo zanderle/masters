{
 "cells": [
  {
   "cell_type": "markdown",
   "metadata": {},
   "source": [
    "# Features\n",
    "There are many features that we want to extract from the websites:\n",
    "\n",
    "* Size (total, text, css, js) - we have to ignore css and js for now, since we don't have them\n",
    "* Number of images\n",
    "* Number of forms\n",
    "* Number of mailto links\n",
    "* Bag of words (the whole website)\n",
    "* Only specific words (based on tags)\n",
    "* Number of items in navigation menu\n",
    "* Navigation menu\n",
    "* Meta description\n",
    "* Meta keywords\n",
    "\n",
    "Optionally, we might want to extend this to:\n",
    "\n",
    "* Topics (that we extract)\n",
    "* Genres of the sites (extracted as well)\n",
    "* Check for iframes, Bootstrap, React, etc.\n",
    "* Check for Google Analytics\n",
    "* Check for Facebook/Twitter/Google+ meta elements\n",
    "* How much are HTML5 and CSS3 elements used?"
   ]
  },
  {
   "cell_type": "markdown",
   "metadata": {
    "collapsed": true
   },
   "source": [
    "# Load dataset"
   ]
  },
  {
   "cell_type": "code",
   "execution_count": null,
   "metadata": {
    "collapsed": false
   },
   "outputs": [],
   "source": [
    "import json\n",
    "\n",
    "with open('companies_cross.json', 'r') as f:\n",
    "    companies = json.load(f)"
   ]
  },
  {
   "cell_type": "code",
   "execution_count": null,
   "metadata": {
    "collapsed": false
   },
   "outputs": [],
   "source": [
    "from collections import Counter\n",
    "\n",
    "# Let's use only companies that we currently have website of (at least some pages)\n",
    "companies = [c for c in companies if c.get('path_to')]\n",
    "\n",
    "# Let's also limit the number of sites (because this is not cleaned yet)\n",
    "companies = [c for c in companies if c.get('current_site_count', 0) < 100]\n",
    "\n",
    "# Let's use only well represented industries\n",
    "industries = Counter([c['industry'] for c in companies])\n",
    "companies = [c for c in companies if industries[c.get('industry')] > 500]"
   ]
  },
  {
   "cell_type": "markdown",
   "metadata": {},
   "source": [
    "## Some helper functions"
   ]
  },
  {
   "cell_type": "code",
   "execution_count": null,
   "metadata": {
    "collapsed": false
   },
   "outputs": [],
   "source": [
    "import os\n",
    "import gzip\n",
    "\n",
    "import scandir\n",
    "from bs4 import BeautifulSoup\n",
    "\n",
    "from ipyparallel import require\n",
    "\n",
    "import logging\n",
    "\n",
    "# set root logger level\n",
    "root_logger = logging.getLogger()\n",
    "root_logger.setLevel(logging.DEBUG)\n",
    "\n",
    "# setup custom logger\n",
    "logger = logging.getLogger(__name__)\n",
    "handler = logging.FileHandler('extract_features.log')\n",
    "handler.setLevel(logging.INFO)\n",
    "logger.addHandler(handler)\n",
    "\n",
    "\n",
    "@require(BeautifulSoup, 'gzip')\n",
    "def get_soup_from_html_gz(path):\n",
    "    with gzip.open(path, 'rt') as f:  # TODO Apparently, not all files are utf-8 encoded? :o\n",
    "        soup = BeautifulSoup(f, 'html.parser')\n",
    "    return soup\n",
    "\n",
    "\n",
    "@require('os')\n",
    "def save_texts_for_domain(text, path, file_name=None):\n",
    "    file_name = file_name or 'full_texts.txt'\n",
    "    file_name = os.path.join(path, file_name)\n",
    "    with open(file_name, 'w') as f:\n",
    "        f.write(text)\n",
    "    return file_name\n",
    "\n",
    "\n",
    "@require('scandir', 'os')\n",
    "def sites_for_domain(path):\n",
    "    for dirpath, dirs, file_names in scandir.walk(path):\n",
    "        for file_name in file_names:\n",
    "            if file_name.endswith('.gz'):\n",
    "                yield os.path.join(dirpath, file_name)\n",
    "\n",
    "\n",
    "def get_nav_menu(soup):\n",
    "    if not soup.body:\n",
    "        return None\n",
    "    # We expect nav menu in header\n",
    "    # First look for possible headers\n",
    "    header = soup.body.find_all('header')\n",
    "    if not header:\n",
    "        header = soup.body.find_all({'class': ['header', 'menu']})\n",
    "    if not header:\n",
    "        header = soup.body.find_all(id='header')\n",
    "    \n",
    "    # Then look for nav menu in that header\n",
    "    if header:\n",
    "        header = header[0]\n",
    "        has_header = True\n",
    "    # If not found, look for a menu anywhere\n",
    "    else:\n",
    "        has_header = False\n",
    "        header = soup.body\n",
    "        \n",
    "    nav = header.find('nav')\n",
    "    if not nav:\n",
    "        nav = soup.body.find('nav')\n",
    "    if not nav:\n",
    "        nav = header.find(class_='nav')\n",
    "    if not nav:\n",
    "        nav = header.find(id='nav')\n",
    "    if not nav:\n",
    "        nav = header.find(class_='menu')\n",
    "    if not nav:\n",
    "        nav = header.find(class_='main-menu')\n",
    "\n",
    "    if nav:\n",
    "        return [item for li in nav.find_all('li') for item in li.stripped_strings]  # TODO this doesn't deal with submenus\n",
    "    elif has_header:\n",
    "        return [item for li in header.find_all('li') for item in li.stripped_strings]\n",
    "    else:\n",
    "        return []\n",
    "\n",
    "\n",
    "@require('os', save_texts_for_domain)\n",
    "def get_texts_for_domain(path, get_text, force_read=False, file_name=None):\n",
    "    file_name = file_name or 'full_texts.txt'\n",
    "    text_file = os.path.join(path, file_name)\n",
    "    if not os.path.exists(text_file) or force_read:\n",
    "        try:\n",
    "            text = get_text(path)\n",
    "            text_file = save_texts_for_domain(text, path, file_name=file_name)\n",
    "        except Exception as e:\n",
    "            print(e)\n",
    "            text = None\n",
    "            text_file = ''\n",
    "    else:\n",
    "        with open(text_file, 'r') as f:\n",
    "            text = f.read()\n",
    "    return text, text_file\n",
    "\n",
    "\n",
    "@require(get_soup_from_html_gz, sites_for_domain)\n",
    "def get_full_text(path):\n",
    "    text = ''\n",
    "    for site_path in sites_for_domain(path):\n",
    "        body = get_soup_from_html_gz(site_path).body\n",
    "        if body:\n",
    "            text += body.get_text()\n",
    "            text += '\\n'\n",
    "    return text\n",
    "\n",
    "\n",
    "@require(get_soup_from_html_gz, sites_for_domain, get_nav_menu)\n",
    "def get_nav_text(path):\n",
    "    text = ''\n",
    "    for site_path in sites_for_domain(path):\n",
    "        soup = get_soup_from_html_gz(site_path)\n",
    "        text = get_nav_menu(soup)\n",
    "        if text:\n",
    "            text = ' '.join(text)\n",
    "            break\n",
    "        else:\n",
    "            text = ''\n",
    "    return text\n",
    "\n",
    "\n",
    "def get_meta_keywords(soup):\n",
    "    keywords = soup.find('meta', attrs={'name':'keywords'})\n",
    "    if keywords:\n",
    "        return [k.strip() for k in keywords.get('content', '').split(',')]\n",
    "    else:\n",
    "        return None\n",
    "\n",
    "\n",
    "def get_meta_description(soup):\n",
    "    description = soup.find('meta', attrs={'name':'description'})\n",
    "    if description:\n",
    "        return description.get('content')\n",
    "    else:\n",
    "        return None\n",
    "\n",
    "\n",
    "def get_site_title(soup):\n",
    "    title = soup.find('title')\n",
    "    if title:\n",
    "        return title.string\n",
    "    else:\n",
    "        return None\n",
    "\n",
    "\n",
    "@require(get_soup_from_html_gz, sites_for_domain, get_meta_keywords)\n",
    "def get_meta_keywords_text(path):\n",
    "    text = ''\n",
    "    for site_path in sites_for_domain(path):\n",
    "        soup = get_soup_from_html_gz(site_path)\n",
    "        text = get_meta_keywords(soup)\n",
    "        if text:\n",
    "            text = ' '.join(text)\n",
    "            break\n",
    "        else:\n",
    "            text = ''\n",
    "    return text\n",
    "\n",
    "\n",
    "@require(get_soup_from_html_gz, sites_for_domain, get_site_title)\n",
    "def get_titles_text(path):\n",
    "    text = ''\n",
    "    for site_path in sites_for_domain(path):\n",
    "        soup = get_soup_from_html_gz(site_path)\n",
    "        title = get_site_title(soup)\n",
    "        if title:\n",
    "            text += title\n",
    "            text += '\\n'\n",
    "    return text\n",
    "\n",
    "\n",
    "@require(get_soup_from_html_gz, sites_for_domain, get_meta_description)\n",
    "def get_meta_descriptions_text(path):\n",
    "    text = ''\n",
    "    prev_description = None\n",
    "    for site_path in sites_for_domain(path):\n",
    "        soup = get_soup_from_html_gz(site_path)\n",
    "        description = get_meta_description(soup)\n",
    "        if description:\n",
    "            if prev_description != description:\n",
    "                prev_description = description\n",
    "                text += description\n",
    "                text += '\\n'\n",
    "    return text"
   ]
  },
  {
   "cell_type": "markdown",
   "metadata": {},
   "source": [
    "## Set up parallel computing"
   ]
  },
  {
   "cell_type": "code",
   "execution_count": null,
   "metadata": {
    "collapsed": true
   },
   "outputs": [],
   "source": [
    "from ipyparallel import Client\n",
    "\n",
    "\n",
    "#  Let's parallelize this\n",
    "c = Client()\n",
    "dv = c[:]\n",
    "dv.block = False\n",
    "dv\n",
    "lview = c.load_balanced_view()"
   ]
  },
  {
   "cell_type": "code",
   "execution_count": null,
   "metadata": {
    "collapsed": false
   },
   "outputs": [],
   "source": [
    "# Parallel processing of meta tags (to speed up further computing)\n",
    "from tqdm import tqdm, tqdm_notebook\n",
    "\n",
    "results = []\n",
    "for company in tqdm(companies):\n",
    "    text = ''\n",
    "    path = company['path_to']\n",
    "#     ar = lview.apply(get_texts_for_domain, path, get_meta_descriptions_text, file_name='descriptions.txt')\n",
    "#     results.append(ar)\n",
    "#     ar = lview.apply(get_texts_for_domain, path, get_meta_keywords_text, file_name='keywords.txt')\n",
    "#     results.append(ar)\n",
    "#     ar = lview.apply(get_texts_for_domain, path, get_titles_text, file_name='titles.txt')\n",
    "#     results.append(ar)\n",
    "    ar = lview.apply(get_texts_for_domain, path, get_nav_text, file_name='nav_menu.txt', force_read=True)\n",
    "    results.append(ar)\n"
   ]
  },
  {
   "cell_type": "markdown",
   "metadata": {},
   "source": [
    "# Get bag of words for websites"
   ]
  },
  {
   "cell_type": "code",
   "execution_count": null,
   "metadata": {
    "collapsed": false,
    "scrolled": true
   },
   "outputs": [],
   "source": [
    "from tqdm import tqdm, tqdm_notebook\n",
    "from sklearn.utils import shuffle\n",
    "\n",
    "# Let's shuffle the data first\n",
    "companies = shuffle(companies)\n",
    "train_data = companies[:120000]\n",
    "target = []\n",
    "\n",
    "texts = []\n",
    "for company in tqdm(train_data):\n",
    "    path = company['path_to']\n",
    "    try:\n",
    "        text, file_path = get_texts_for_domain(path, get_full_text)\n",
    "        \n",
    "        if text:\n",
    "            texts.append(file_path)\n",
    "            target.append(company['industry'])\n",
    "    except Exception as e:\n",
    "        print(e)\n",
    "        logger.error(str(e))\n",
    "    \n",
    "# Accuracy about 47%. 48% with removed scripts\n",
    "# 42% with balanced classifier\n",
    "# 46% with ngrams 45% 1-4\n",
    "# 45% lemmatize\n"
   ]
  },
  {
   "cell_type": "markdown",
   "metadata": {},
   "source": [
    "1. Precision, Recall, curve (ROC), lift curve, confusion matrix, mogoce tudi clustering confusion matrixa\n",
    "2. Rocno dolocanje napake\n",
    "3. Stacking (potrebujem verjetnost)\n",
    "4. "
   ]
  },
  {
   "cell_type": "markdown",
   "metadata": {},
   "source": [
    "# Get bag of words on nav menus"
   ]
  },
  {
   "cell_type": "code",
   "execution_count": null,
   "metadata": {
    "collapsed": false,
    "scrolled": true
   },
   "outputs": [],
   "source": [
    "from tqdm import tqdm\n",
    "from sklearn.utils import shuffle\n",
    "\n",
    "# Let's shuffle the data first\n",
    "companies = shuffle(companies)\n",
    "train_data = companies[:160000]\n",
    "target = []\n",
    "\n",
    "texts = []\n",
    "for company in tqdm(train_data):\n",
    "    text = ''\n",
    "    path = company['path_to']\n",
    "    try:\n",
    "        text, file_path = get_texts_for_domain(path, get_nav_text, file_name='nav_menu.txt')\n",
    "        # If we can't extract, fallback to full website\n",
    "#         if not text:\n",
    "#             text, file_path = get_texts_for_domain(path, get_full_text)\n",
    "        if text:\n",
    "            target.append(company['industry'])\n",
    "            texts.append(file_path)\n",
    "    except Exception as e:\n",
    "        print(e)\n",
    "        logger.error(str(e))\n",
    "\n",
    "# 36% with replacing when no nav menu\n",
    "# Same with stop words and ngrams\n",
    "# 30% balanced"
   ]
  },
  {
   "cell_type": "markdown",
   "metadata": {},
   "source": [
    "# Get bag of words on meta tags"
   ]
  },
  {
   "cell_type": "code",
   "execution_count": null,
   "metadata": {
    "collapsed": false,
    "scrolled": true
   },
   "outputs": [],
   "source": [
    "from tqdm import tqdm\n",
    "from sklearn.utils import shuffle\n",
    "\n",
    "\n",
    "# Let's shuffle the data first\n",
    "companies = shuffle(companies)\n",
    "train_data = companies[:160000]\n",
    "target = []\n",
    "\n",
    "texts = []\n",
    "for company in tqdm(train_data):\n",
    "    text = ''\n",
    "    path = company['path_to']\n",
    "    try:\n",
    "#         text, file_path = get_texts_for_domain(path, get_meta_descriptions_text, file_name='descriptions.txt')\n",
    "#         text, file_path = get_texts_for_domain(path, get_titles_text, file_name='titles.txt')\n",
    "        text, file_path = get_texts_for_domain(path, get_meta_keywords_text, file_name='keywords.txt')\n",
    "        if text:\n",
    "            target.append(company['industry'])\n",
    "            texts.append(file_path)\n",
    "    except Exception as e:\n",
    "        logger.error(str(e))\n",
    "\n",
    "# Accuracy about 41% for descriptions\n",
    "# 35% for titles\n",
    "# 36% for keywords\n",
    "# Problem with all of these is that the accuracy is less, because a lot don't have these meta tags\n"
   ]
  },
  {
   "cell_type": "markdown",
   "metadata": {},
   "source": [
    "# Classify"
   ]
  },
  {
   "cell_type": "markdown",
   "metadata": {},
   "source": [
    "## Create a pipe for transformer + classifier"
   ]
  },
  {
   "cell_type": "markdown",
   "metadata": {},
   "source": [
    "### Bag of Words (HashingVectorizer + tfid) with SVC"
   ]
  },
  {
   "cell_type": "code",
   "execution_count": null,
   "metadata": {
    "collapsed": true
   },
   "outputs": [],
   "source": [
    "from sklearn.feature_extraction.text import HashingVectorizer, TfidfTransformer\n",
    "from sklearn.linear_model import SGDClassifier\n",
    "from sklearn.pipeline import Pipeline\n",
    "\n",
    "hv = HashingVectorizer(non_negative=True, input='filename')\n",
    "tf_transformer = TfidfTransformer()\n",
    "clf = SGDClassifier(loss='hinge', n_iter=100, alpha=0.01, n_jobs=5)\n",
    "\n",
    "pipe = Pipeline([('HV', hv), ('tfid', tf_transformer), ('svc', clf)])"
   ]
  },
  {
   "cell_type": "markdown",
   "metadata": {},
   "source": [
    "## Train"
   ]
  },
  {
   "cell_type": "code",
   "execution_count": null,
   "metadata": {
    "collapsed": false
   },
   "outputs": [],
   "source": [
    "pipe.fit(texts, target)"
   ]
  },
  {
   "cell_type": "markdown",
   "metadata": {},
   "source": [
    "## Test"
   ]
  },
  {
   "cell_type": "code",
   "execution_count": null,
   "metadata": {
    "collapsed": false,
    "scrolled": true
   },
   "outputs": [],
   "source": [
    "texts = []\n",
    "# Test on 1000 samples\n",
    "test_companies = companies[-8000:]\n",
    "tested = []\n",
    "for company in tqdm(test_companies):\n",
    "    text = ''\n",
    "    path = company['path_to']\n",
    "    try:\n",
    "        text, file_path = get_texts_for_domain(path, get_nav_text, file_name='nav_menu.txt')\n",
    "#         text, file_path = get_texts_for_domain(path, get_full_text)\n",
    "#         text, file_path = get_texts_for_domain(path, get_meta_descriptions_text, file_name='descriptions.txt')\n",
    "#         text, file_path = get_texts_for_domain(path, get_titles_text, file_name='titles.txt')\n",
    "#         text, file_path = get_texts_for_domain(path, get_meta_keywords_text, file_name='keywords.txt')\n",
    "#         if not text:\n",
    "#             text, file_path = get_texts_for_domain(path, get_full_text)\n",
    "        if text:\n",
    "            texts.append(file_path)\n",
    "            tested.append(company)\n",
    "    except Exception as e:\n",
    "        print(e)\n",
    "\n",
    "score = pipe.score(texts, [c['industry'] for c in tested])"
   ]
  },
  {
   "cell_type": "code",
   "execution_count": null,
   "metadata": {
    "collapsed": false
   },
   "outputs": [],
   "source": [
    "score"
   ]
  },
  {
   "cell_type": "code",
   "execution_count": null,
   "metadata": {
    "collapsed": true
   },
   "outputs": [],
   "source": [
    "predicted = pipe.predict(texts)"
   ]
  },
  {
   "cell_type": "code",
   "execution_count": null,
   "metadata": {
    "collapsed": false
   },
   "outputs": [],
   "source": [
    "expected = [c['industry'] for c in tested]"
   ]
  },
  {
   "cell_type": "code",
   "execution_count": null,
   "metadata": {
    "collapsed": true
   },
   "outputs": [],
   "source": []
  },
  {
   "cell_type": "markdown",
   "metadata": {},
   "source": [
    "### Evaluate results"
   ]
  },
  {
   "cell_type": "code",
   "execution_count": null,
   "metadata": {
    "collapsed": false,
    "scrolled": true
   },
   "outputs": [],
   "source": [
    "from sklearn.metrics import classification_report, confusion_matrix, recall_score, precision_score\n",
    "\n",
    "print(\"Classification report for classifier:\\n%s\\n\"\n",
    "      % classification_report(expected, predicted))\n",
    "print(\"Confusion matrix:\\n%s\" % confusion_matrix(expected, predicted))"
   ]
  },
  {
   "cell_type": "code",
   "execution_count": null,
   "metadata": {
    "collapsed": false
   },
   "outputs": [],
   "source": [
    "expected_count = Counter(expected)\n",
    "results = {}\n",
    "for num, example in enumerate(expected):\n",
    "    if example == predicted[num]:\n",
    "        results[example] = results.get(example, 0) + 1\n",
    "    elif predicted[num] in similar_industries.get(example, []):\n",
    "        results[example] = results.get(example, 0) + 0.5\n",
    "\n",
    "for key, value in results.items():\n",
    "    results[key] = value / expected_count[key]\n",
    "\n",
    "print(recall_score(expected, predicted, average='weighted'))\n",
    "sum([v * expected_count[key] / len(expected) for key, v in results.items()])"
   ]
  },
  {
   "cell_type": "code",
   "execution_count": null,
   "metadata": {
    "collapsed": false
   },
   "outputs": [],
   "source": [
    "results"
   ]
  },
  {
   "cell_type": "markdown",
   "metadata": {},
   "source": [
    "#### What are we confusing for what?"
   ]
  },
  {
   "cell_type": "code",
   "execution_count": null,
   "metadata": {
    "collapsed": true
   },
   "outputs": [],
   "source": [
    "similar_industries = {}\n",
    "skipped = {}"
   ]
  },
  {
   "cell_type": "code",
   "execution_count": null,
   "metadata": {
    "collapsed": false
   },
   "outputs": [],
   "source": [
    "# Use this to determine if a mistake is big or small\n",
    "similar_industries = {'Accounting': ['Financial Services'],\n",
    " 'Airlines/Aviation': ['Aviation & Aerospace', 'Leisure, Travel & Tourism'],\n",
    " 'Apparel & Fashion': ['Consumer Goods', 'Design', 'Luxury Goods & Jewelry', 'Retail'],\n",
    " 'Architecture & Planning': ['Construction', 'Furniture'],\n",
    " 'Automotive': ['Machinery', 'Mechanical or Industrial Engineering'],\n",
    " 'Aviation & Aerospace': ['Airlines/Aviation',\n",
    "  'Leisure, Travel & Tourism',\n",
    "  'Mechanical or Industrial Engineering'],\n",
    " 'Banking': ['Financial Services'],\n",
    " 'Broadcast Media': ['Newspapers'],\n",
    " 'Building Materials': ['Construction'],\n",
    " 'Business Supplies and Equipment': ['Furniture', 'Printing', 'Retail'],\n",
    " 'Chemicals': ['Cosmetics', 'Plastics'],\n",
    " 'Civic & Social Organization': ['Government Administration',\n",
    "  'Nonprofit Organization Management'],\n",
    " 'Civil Engineering': ['Architecture & Planning',\n",
    "  'Construction',\n",
    "  'Renewables & Environment'],\n",
    " 'Computer Games': ['Information Technology and Services', 'Internet'],\n",
    " 'Computer Software': ['Computer Games',\n",
    "  'Information Services',\n",
    "  'Information Technology and Services',\n",
    "  'Internet',\n",
    "  'Research'],\n",
    " 'Construction': ['Architecture & Planning',\n",
    "  'Civil Engineering',\n",
    "  'Real Estate',\n",
    "  'Building Materials'],\n",
    " 'Consumer Electronics': ['Business Supplies and Equipment',\n",
    "  'Electrical/Electronic Manufacturing',\n",
    "  'Entertainment',\n",
    "  'Information Technology and Services'],\n",
    " 'Consumer Goods': ['Computer Games',\n",
    "  'Consumer Services',\n",
    "  'Food & Beverages',\n",
    "  'Wine and Spirits',\n",
    "                   'Retail', 'Wholesale'],\n",
    " 'Consumer Services': ['Hospitality',\n",
    "  'Leisure, Travel & Tourism',\n",
    "  'Retail',\n",
    "  'Wholesale'],\n",
    " 'Cosmetics': ['Health, Wellness and Fitness', 'Hospital & Health Care'],\n",
    " 'Design': ['Apparel & Fashion', 'Photography'],\n",
    " 'E-Learning': ['Computer Games',\n",
    "  'Computer Software',\n",
    "  'Education Management',\n",
    "  'Information Technology and Services',\n",
    "  'Higher Education',\n",
    "  'Internet'],\n",
    " 'Education Management': ['Management Consulting', 'Higher Education'],\n",
    " 'Electrical/Electronic Manufacturing': ['Consumer Electronics',\n",
    "  'Industrial Automation'],\n",
    " 'Entertainment': ['Apparel & Fashion',\n",
    "  'Broadcast Media',\n",
    "  'Computer Games',\n",
    "  'Events Services',\n",
    "  'Hospitality',\n",
    "  'Leisure, Travel & Tourism',\n",
    "  'Motion Pictures and Film',\n",
    "  'Music',\n",
    "  'Performing Arts'],\n",
    " 'Environmental Services': ['Renewables & Environment'],\n",
    " 'Events Services': ['Entertainment',\n",
    "  'Food & Beverages',\n",
    "  'Hospitality',\n",
    "  'Leisure, Travel & Tourism',\n",
    "  'Music',\n",
    "  'Restaurants'],\n",
    " 'Financial Services': ['Accounting',\n",
    "  'Banking',\n",
    "  'Insurance',\n",
    "  'Legal Services'],\n",
    " 'Food & Beverages': ['Events Services',\n",
    "  'Food Production',\n",
    "  'Restaurants',\n",
    "  'Wine and Spirits'],\n",
    " 'Food Production': ['Consumer Goods', 'Food & Beverages', 'Wine and Spirits'],\n",
    " 'Furniture': ['Architecture & Planning'],\n",
    " 'Government Administration': ['Civic & Social Organization',\n",
    "  'Education Management',\n",
    "  'Environmental Services',\n",
    "  'Higher Education',\n",
    "  'Hospital & Health Care',\n",
    "  'Renewables & Environment'],\n",
    " 'Graphic Design': ['Design', 'Printing'],\n",
    " 'Health, Wellness and Fitness': ['Cosmetics',\n",
    "  'Hospital & Health Care',\n",
    "  'Hospitality',\n",
    "  'Leisure, Travel & Tourism'],\n",
    " 'Higher Education': ['Education Management', 'Research'],\n",
    " 'Hospital & Health Care': ['Health, Wellness and Fitness',\n",
    "  'Individual & Family Services',\n",
    "  'Medical Devices'],\n",
    " 'Hospitality': ['Events Services', 'Leisure, Travel & Tourism'],\n",
    " 'Human Resources': ['Government Administration',\n",
    "  'Professional Training & Coaching',\n",
    "  'Staffing and Recruiting'],\n",
    " 'Industrial Automation': ['Mechanical or Industrial Engineering'],\n",
    " 'Information Services': ['Computer Software',\n",
    "  'E-Learning',\n",
    "  'Information Technology and Services',\n",
    "  'Internet'],\n",
    " 'Information Technology and Services': ['Computer Games',\n",
    "  'Computer Software',\n",
    "  'Information Services',\n",
    "                                        'Internet'],\n",
    " 'Insurance': ['Banking', 'Financial Services'],\n",
    " 'International Trade and Development': ['Government Administration'],\n",
    " 'Internet': ['Computer Software',\n",
    "  'Information Services',\n",
    "  'Information Technology and Services'],\n",
    " 'Investment Management': ['Financial Services', 'Insurance'],\n",
    " 'Law Practice': ['Legal Services'],\n",
    " 'Legal Services': ['Law Practice'],\n",
    " 'Leisure, Travel & Tourism': ['Entertainment', 'Museums and Institutions'],\n",
    " 'Luxury Goods & Jewelry': ['Apparel & Fashion'],\n",
    " 'Machinery': ['Automotive',\n",
    "  'Mechanical or Industrial Engineering',\n",
    "  'Mining & Metals'],\n",
    " 'Management Consulting': ['Professional Training & Coaching'],\n",
    " 'Maritime': ['Leisure, Travel & Tourism'],\n",
    " 'Mechanical or Industrial Engineering': ['Airlines/Aviation',\n",
    "  'Automotive',\n",
    "  'Industrial Automation',\n",
    "  'Plastics',\n",
    "  'Research',\n",
    "                                         'Machinery'],\n",
    " 'Media Production': ['Broadcast Media',\n",
    "  'Motion Pictures and Film',\n",
    "  'Newspapers'],\n",
    " 'Medical Devices': ['Hospital & Health Care'],\n",
    " 'Mining & Metals': ['Building Materials', 'Machinery', 'Oil & Energy'],\n",
    " 'Motion Pictures and Film': ['Entertainment',\n",
    "  'Media Production',\n",
    "  'Photography'],\n",
    " 'Newspapers': ['Broadcast Media'],\n",
    " 'Nonprofit Organization Management': ['Civic & Social Organization'],\n",
    " 'Oil & Energy': ['Chemicals', 'Mining & Metals'],\n",
    " 'Online Media': ['Entertainment', 'Media Production', 'Newspapers'],\n",
    " 'Pharmaceuticals': ['Cosmetics', 'Hospital & Health Care'],\n",
    " 'Printing': ['Business Supplies and Equipment'],\n",
    " 'Professional Training & Coaching': ['Education Management',\n",
    "  'Human Resources', 'Management Consulting'],\n",
    " 'Public Relations and Communications': ['Marketing and Advertising'],\n",
    " 'Publishing': ['Media Production', 'Printing'],\n",
    " 'Renewables & Environment': ['Environmental Services'],\n",
    "                      'Research': ['Higher Education'],\n",
    " 'Restaurants': ['Food & Beverages', 'Hospitality'],\n",
    " 'Retail': ['Apparel & Fashion'],\n",
    " 'Security and Investigations': ['Information Technology and Services'],\n",
    " 'Sports': ['Health, Wellness and Fitness', 'Leisure, Travel & Tourism'],\n",
    " 'Staffing and Recruiting': ['Human Resources', 'Management Consulting'],\n",
    " 'Telecommunications': ['Information Technology and Services'],\n",
    " 'Transportation/Trucking/Railroad': ['Automotive',\n",
    "  'Logistics and Supply Chain']}"
   ]
  },
  {
   "cell_type": "code",
   "execution_count": null,
   "metadata": {
    "collapsed": false
   },
   "outputs": [],
   "source": [
    "industries_names = sorted(list(industries.keys()))\n",
    "confusion = confusion_matrix(expected, predicted, labels=industries_names)\n",
    "\n",
    "for true_index, row in enumerate(confusion):\n",
    "    act = industries_names[true_index]\n",
    "    print('******** %s ********' % act)\n",
    "    for predicted_index, value in enumerate(row):\n",
    "        if true_index != predicted_index and value > 2:\n",
    "            pred = industries_names[predicted_index]\n",
    "#             print(\"%s but predicted %s: %s times\" % (act, pred, value))\n",
    "            if pred not in similar_industries.get(act, []):# and pred not in skipped.get(act, []):\n",
    "                print(\"%s but predicted %s: %s times\" % (act, pred, value))\n",
    "#                 add = input('Add %s? ' % pred)\n",
    "#                 if add == 'y':\n",
    "#                     similar_industries[act] = similar_industries.get(act, []) + [pred]\n",
    "#                     print('Added %s' % pred)\n",
    "#                 else:\n",
    "#                     skipped[act] = skipped.get(act, []) + [pred]\n"
   ]
  },
  {
   "cell_type": "markdown",
   "metadata": {},
   "source": [
    "### Check accuracy for specific industries"
   ]
  },
  {
   "cell_type": "code",
   "execution_count": null,
   "metadata": {
    "collapsed": false
   },
   "outputs": [],
   "source": [
    "from collections import Counter, defaultdict\n",
    "\n",
    "test_industries = Counter([c['industry'] for c in tested])\n",
    "company_accuracy = defaultdict(int)\n",
    "\n",
    "for company, predict in zip(tested, predicted):\n",
    "    if company['industry'] == predict:\n",
    "        company_accuracy[company['industry']] += 1\n",
    "\n",
    "for key, item in company_accuracy.items():\n",
    "    company_accuracy[key] = round(item / test_industries[key] * 100, 2)"
   ]
  },
  {
   "cell_type": "code",
   "execution_count": null,
   "metadata": {
    "collapsed": false
   },
   "outputs": [],
   "source": [
    "for company, predict in zip(tested, predicted):\n",
    "    if company['industry'] != predict and company_accuracy[company['industry']] < 20:\n",
    "        print(\"%s: predicted %s\" % (company['industry'], predict))"
   ]
  },
  {
   "cell_type": "code",
   "execution_count": null,
   "metadata": {
    "collapsed": false
   },
   "outputs": [],
   "source": [
    "industries = Counter([c['industry'] for c in companies])\n",
    "x = []\n",
    "y = []\n",
    "for industry, common in industries.most_common():\n",
    "    print(\"%s - %s\" % (industry, company_accuracy[industry]))\n",
    "    x.append(common)\n",
    "    y.append(company_accuracy[industry])"
   ]
  },
  {
   "cell_type": "code",
   "execution_count": null,
   "metadata": {
    "collapsed": false
   },
   "outputs": [],
   "source": [
    "%matplotlib inline\n",
    "\n",
    "from matplotlib import pyplot as plt\n",
    "\n",
    "plt.plot(x, y)"
   ]
  },
  {
   "cell_type": "markdown",
   "metadata": {},
   "source": [
    "# Extract different features from websites"
   ]
  },
  {
   "cell_type": "code",
   "execution_count": null,
   "metadata": {
    "collapsed": false
   },
   "outputs": [],
   "source": [
    "from tqdm import tqdm\n",
    "import numpy as np\n",
    "from sklearn.utils import shuffle\n",
    "from ipyparallel import require\n",
    "\n",
    "\n",
    "companies = shuffle(companies)\n",
    "train_data = companies[:160000]\n",
    "target = []\n",
    "\n",
    "features = []\n",
    "\n",
    "@require(sites_for_domain, get_soup_from_html_gz)\n",
    "def get_features(path):\n",
    "    image_count = 0\n",
    "    sites = 0\n",
    "    form_count = 0\n",
    "    for site_path in sites_for_domain(path):\n",
    "        sites += 1\n",
    "        soup = get_soup_from_html_gz(site_path)\n",
    "        image_count += len(soup.find_all('img'))\n",
    "        form_count += len(soup.find_all('form'))\n",
    "    avg_image_count = image_count / sites if sites else 0\n",
    "    return [sites, image_count, avg_image_count, form_count]\n",
    "\n",
    "\n",
    "results = []\n",
    "for i, company in enumerate(tqdm(train_data)):\n",
    "    path = company['path_to']\n",
    "    ar = lview.apply_async(get_features, path)\n",
    "    results.append(ar)\n",
    "\n",
    "for i, company in enumerate(tqdm(train_data)):\n",
    "    try:\n",
    "        features.append(results[i].get())\n",
    "        target.append(company)\n",
    "    except Exception as e:\n",
    "        print(e)\n",
    "\n",
    "# Accuracy 25% for company_size\n",
    "# 26% for balanced classifier\n"
   ]
  },
  {
   "cell_type": "code",
   "execution_count": null,
   "metadata": {
    "collapsed": false
   },
   "outputs": [],
   "source": [
    "# Try SGD Classifier\n",
    "from sklearn.linear_model import SGDClassifier\n",
    "\n",
    "clf = SGDClassifier(loss='hinge', n_iter=100, alpha=0.01, n_jobs=5)#, class_weight='balanced')\n",
    "clf.fit(features, [c['company_size_clean'] for c in target])"
   ]
  },
  {
   "cell_type": "code",
   "execution_count": null,
   "metadata": {
    "collapsed": false
   },
   "outputs": [],
   "source": [
    "texts = []\n",
    "# Test on 1000 samples\n",
    "test_companies = companies[-4000:]\n",
    "results = []\n",
    "\n",
    "features_test = []\n",
    "target_test = []\n",
    "\n",
    "for i, company in enumerate(tqdm(test_companies)):\n",
    "    path = company['path_to']\n",
    "    ar = lview.apply_async(get_features, path)\n",
    "    results.append(ar)\n",
    "\n",
    "for i, company in enumerate(tqdm(test_companies)):\n",
    "    try:\n",
    "        features_test.append(results[i].get())\n",
    "        target_test.append(company)\n",
    "    except Exception as e:\n",
    "        print(e)\n",
    "\n",
    "score = clf.score(features_test, [c['company_size_clean'] for c in target_test])"
   ]
  },
  {
   "cell_type": "code",
   "execution_count": null,
   "metadata": {
    "collapsed": false
   },
   "outputs": [],
   "source": [
    "score"
   ]
  },
  {
   "cell_type": "code",
   "execution_count": null,
   "metadata": {
    "collapsed": false
   },
   "outputs": [],
   "source": [
    "sizes = {\n",
    "    '1': 1,\n",
    "    '1-10': 2,\n",
    "    '11-50': 3,\n",
    "    '51-200': 4,\n",
    "    '201-500': 5,\n",
    "    '501-1000': 6,\n",
    "    '1001-5000': 7,\n",
    "    '5001-10,000': 8,\n",
    "    '10,001+': 9,\n",
    "}"
   ]
  },
  {
   "cell_type": "code",
   "execution_count": null,
   "metadata": {
    "collapsed": false
   },
   "outputs": [],
   "source": [
    "# Score not so harshly\n",
    "correct = 0\n",
    "for i, com in enumerate(target_test):\n",
    "    predict = sizes.get(clf.predict([features_test[i]])[0])\n",
    "    actual = sizes.get(com['company_size_clean'])\n",
    "    if abs(predict - actual) <= 2:\n",
    "        correct += 1\n",
    "\n",
    "correct/len(target_test)"
   ]
  },
  {
   "cell_type": "code",
   "execution_count": null,
   "metadata": {
    "collapsed": false
   },
   "outputs": [],
   "source": [
    "# See the mistakes\n",
    "for i, com in enumerate(target_test[:200]):\n",
    "    predicted = clf.predict([features_test[i]])[0]\n",
    "    actual = com['company_size_clean']\n",
    "    if not predicted == actual:\n",
    "        print(\"Predicted - Actual: %s - %s\" % (predicted, actual))"
   ]
  },
  {
   "cell_type": "code",
   "execution_count": null,
   "metadata": {
    "collapsed": false
   },
   "outputs": [],
   "source": [
    "# See the industries\n",
    "from collections import Counter\n",
    "\n",
    "industries = Counter([c['industry'] for c in companies])\n",
    "industries.most_common()"
   ]
  },
  {
   "cell_type": "code",
   "execution_count": null,
   "metadata": {
    "collapsed": false
   },
   "outputs": [],
   "source": [
    "for k in sorted(industries.most_common()):\n",
    "    print(k[0])"
   ]
  },
  {
   "cell_type": "code",
   "execution_count": null,
   "metadata": {
    "collapsed": true
   },
   "outputs": [],
   "source": [
    "predicted"
   ]
  },
  {
   "cell_type": "code",
   "execution_count": null,
   "metadata": {
    "collapsed": true
   },
   "outputs": [],
   "source": []
  }
 ],
 "metadata": {
  "anaconda-cloud": {},
  "kernelspec": {
   "display_name": "Python [masters]",
   "language": "python",
   "name": "Python [masters]"
  },
  "language_info": {
   "codemirror_mode": {
    "name": "ipython",
    "version": 3
   },
   "file_extension": ".py",
   "mimetype": "text/x-python",
   "name": "python",
   "nbconvert_exporter": "python",
   "pygments_lexer": "ipython3",
   "version": "3.5.2"
  }
 },
 "nbformat": 4,
 "nbformat_minor": 0
}
