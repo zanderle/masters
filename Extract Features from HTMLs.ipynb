{
 "cells": [
  {
   "cell_type": "markdown",
   "metadata": {
    "collapsed": true
   },
   "source": [
    "# Load dataset"
   ]
  },
  {
   "cell_type": "code",
   "execution_count": null,
   "metadata": {
    "collapsed": false
   },
   "outputs": [],
   "source": [
    "import json\n",
    "\n",
    "with open('companies_cross.json', 'r') as f:\n",
    "    companies = json.load(f)"
   ]
  },
  {
   "cell_type": "code",
   "execution_count": null,
   "metadata": {
    "collapsed": false
   },
   "outputs": [],
   "source": [
    "from collections import Counter\n",
    "\n",
    "# Let's use only companies that we currently have website of (at least some pages)\n",
    "companies = [c for c in companies if c.get('path_to')]\n",
    "\n",
    "# Let's also limit the number of sites (because this is not cleaned yet)\n",
    "companies = [c for c in companies if c.get('current_site_count', 0) < 100]\n",
    "\n",
    "# Let's use only well represented industries\n",
    "industries = Counter([c['industry'] for c in companies])\n",
    "companies = [c for c in companies if industries[c.get('industry')] > 500]"
   ]
  },
  {
   "cell_type": "markdown",
   "metadata": {},
   "source": [
    "## Some helper functions"
   ]
  },
  {
   "cell_type": "code",
   "execution_count": null,
   "metadata": {
    "collapsed": false
   },
   "outputs": [],
   "source": [
    "import os\n",
    "import gzip\n",
    "\n",
    "import scandir\n",
    "from bs4 import BeautifulSoup\n",
    "\n",
    "from ipyparallel import require\n",
    "\n",
    "import logging\n",
    "\n",
    "# set root logger level\n",
    "root_logger = logging.getLogger()\n",
    "root_logger.setLevel(logging.DEBUG)\n",
    "\n",
    "# setup custom logger\n",
    "logger = logging.getLogger(__name__)\n",
    "handler = logging.FileHandler('extract_features.log')\n",
    "handler.setLevel(logging.INFO)\n",
    "logger.addHandler(handler)\n",
    "\n",
    "\n",
    "@require(BeautifulSoup, 'gzip')\n",
    "def get_soup_from_html_gz(path):\n",
    "    with gzip.open(path, 'rt') as f:  # TODO Apparently, not all files are utf-8 encoded? :o\n",
    "        soup = BeautifulSoup(f, 'html.parser')\n",
    "    return soup\n",
    "\n",
    "\n",
    "@require('os')\n",
    "def save_texts_for_domain(text, path, file_name=None):\n",
    "    file_name = file_name or 'full_texts.txt'\n",
    "    file_name = os.path.join(path, file_name)\n",
    "    with open(file_name, 'w') as f:\n",
    "        f.write(text)\n",
    "    return file_name\n",
    "\n",
    "\n",
    "@require('scandir', 'os')\n",
    "def sites_for_domain(path):\n",
    "    for dirpath, dirs, file_names in scandir.walk(path):\n",
    "        for file_name in file_names:\n",
    "            if file_name.endswith('.gz'):\n",
    "                yield os.path.join(dirpath, file_name)\n",
    "\n",
    "\n",
    "def get_nav_menu(soup):\n",
    "    if not soup.body:\n",
    "        return None\n",
    "    # We expect nav menu in header\n",
    "    # First look for possible headers\n",
    "    header = soup.body.find_all('header')\n",
    "    if not header:\n",
    "        header = soup.body.find_all({'class': ['header', 'menu']})\n",
    "    if not header:\n",
    "        header = soup.body.find_all(id='header')\n",
    "    \n",
    "    # Then look for nav menu in that header\n",
    "    if header:\n",
    "        header = header[0]\n",
    "        has_header = True\n",
    "    # If not found, look for a menu anywhere\n",
    "    else:\n",
    "        has_header = False\n",
    "        header = soup.body\n",
    "        \n",
    "    nav = header.find('nav')\n",
    "    if not nav:\n",
    "        nav = soup.body.find('nav')\n",
    "    if not nav:\n",
    "        nav = header.find(class_='nav')\n",
    "    if not nav:\n",
    "        nav = header.find(id='nav')\n",
    "    if not nav:\n",
    "        nav = header.find(class_='menu')\n",
    "    if not nav:\n",
    "        nav = header.find(class_='main-menu')\n",
    "\n",
    "    if nav:\n",
    "        return [item for li in nav.find_all('li') for item in li.stripped_strings]  # TODO this doesn't deal with submenus\n",
    "    elif has_header:\n",
    "        return [item for li in header.find_all('li') for item in li.stripped_strings]\n",
    "    else:\n",
    "        return []\n",
    "\n",
    "\n",
    "@require('os', save_texts_for_domain)\n",
    "def get_texts_for_domain(path, get_text, force_read=False, file_name=None):\n",
    "    file_name = file_name or 'full_texts.txt'\n",
    "    text_file = os.path.join(path, file_name)\n",
    "    if not os.path.exists(text_file) or force_read:\n",
    "        try:\n",
    "            text = get_text(path)\n",
    "            text_file = save_texts_for_domain(text, path, file_name=file_name)\n",
    "        except Exception as e:\n",
    "#             print(e)\n",
    "            text = None\n",
    "            text_file = ''\n",
    "    else:\n",
    "        with open(text_file, 'r') as f:\n",
    "            text = f.read()\n",
    "    return text, text_file\n",
    "\n",
    "\n",
    "@require('os', save_texts_for_domain)\n",
    "def combine_metas(path):\n",
    "    file_names = ['descriptions.txt', 'keywords.txt', 'titles.txt']\n",
    "    full_metas = ''\n",
    "    for file_name in file_names:\n",
    "        text_file = os.path.join(path, file_name)\n",
    "        if os.path.exists(text_file):\n",
    "            with open(text_file, 'r') as f:\n",
    "                text = f.read()\n",
    "            if text:\n",
    "                full_metas += text\n",
    "                full_metas += '\\n'\n",
    "    if full_metas:\n",
    "        text_file = save_texts_for_domain(full_metas, path, file_name='metas.txt')\n",
    "    return full_metas, text_file\n",
    "\n",
    "\n",
    "@require(get_soup_from_html_gz, sites_for_domain)\n",
    "def get_full_text(path):\n",
    "    text = ''\n",
    "    for site_path in sites_for_domain(path):\n",
    "        body = get_soup_from_html_gz(site_path).body\n",
    "        if body:\n",
    "            # We assume this is noise\n",
    "            for script in body.find_all('script'):\n",
    "                script.clear()\n",
    "            text += body.get_text()\n",
    "            text += '\\n'\n",
    "    return text\n",
    "\n",
    "\n",
    "@require(get_soup_from_html_gz, sites_for_domain, get_nav_menu)\n",
    "def get_nav_text(path):\n",
    "    text = ''\n",
    "    for site_path in sites_for_domain(path):\n",
    "        soup = get_soup_from_html_gz(site_path)\n",
    "        text = get_nav_menu(soup)\n",
    "        if text:\n",
    "            text = ' '.join(text)\n",
    "            break\n",
    "        else:\n",
    "            text = ''\n",
    "    return text\n",
    "\n",
    "\n",
    "def get_meta_keywords(soup):\n",
    "    keywords = soup.find('meta', attrs={'name':'keywords'})\n",
    "    if keywords:\n",
    "        return [k.strip() for k in keywords.get('content', '').split(',')]\n",
    "    else:\n",
    "        return None\n",
    "\n",
    "\n",
    "def get_meta_description(soup):\n",
    "    description = soup.find('meta', attrs={'name':'description'})\n",
    "    if description:\n",
    "        return description.get('content')\n",
    "    else:\n",
    "        return None\n",
    "\n",
    "\n",
    "def get_site_title(soup):\n",
    "    title = soup.find('title')\n",
    "    if title:\n",
    "        return title.string\n",
    "    else:\n",
    "        return None\n",
    "\n",
    "\n",
    "@require(get_soup_from_html_gz, sites_for_domain, get_meta_keywords)\n",
    "def get_meta_keywords_text(path):\n",
    "    text = ''\n",
    "    for site_path in sites_for_domain(path):\n",
    "        soup = get_soup_from_html_gz(site_path)\n",
    "        text = get_meta_keywords(soup)\n",
    "        if text:\n",
    "            text = ' '.join(text)\n",
    "            break\n",
    "        else:\n",
    "            text = ''\n",
    "    return text\n",
    "\n",
    "\n",
    "@require(get_soup_from_html_gz, sites_for_domain, get_site_title)\n",
    "def get_titles_text(path):\n",
    "    text = ''\n",
    "    for site_path in sites_for_domain(path):\n",
    "        soup = get_soup_from_html_gz(site_path)\n",
    "        title = get_site_title(soup)\n",
    "        if title:\n",
    "            text += title\n",
    "            text += '\\n'\n",
    "    return text\n",
    "\n",
    "\n",
    "@require(get_soup_from_html_gz, sites_for_domain, get_meta_description)\n",
    "def get_meta_descriptions_text(path):\n",
    "    text = ''\n",
    "    prev_description = None\n",
    "    for site_path in sites_for_domain(path):\n",
    "        soup = get_soup_from_html_gz(site_path)\n",
    "        description = get_meta_description(soup)\n",
    "        if description:\n",
    "            if prev_description != description:\n",
    "                prev_description = description\n",
    "                text += description\n",
    "                text += '\\n'\n",
    "    return text"
   ]
  },
  {
   "cell_type": "markdown",
   "metadata": {},
   "source": [
    "### Scoring function for company_size"
   ]
  },
  {
   "cell_type": "code",
   "execution_count": null,
   "metadata": {
    "collapsed": true
   },
   "outputs": [],
   "source": [
    "def scoring_neighbour(estimator, data, actual):\n",
    "    predicted = estimator.predict(data)\n",
    "    correct = 0\n",
    "    for p, a in zip(predicted, actual):\n",
    "        if abs(sizes.get(p) - sizes.get(a)) < 1:\n",
    "            correct += 1\n",
    "        if abs(sizes.get(p) - sizes.get(a)) < 2:\n",
    "            correct += 0.5\n",
    "    return correct/len(actual)"
   ]
  },
  {
   "cell_type": "markdown",
   "metadata": {},
   "source": [
    "## Set up parallel computing"
   ]
  },
  {
   "cell_type": "code",
   "execution_count": null,
   "metadata": {
    "collapsed": true
   },
   "outputs": [],
   "source": [
    "from ipyparallel import Client\n",
    "\n",
    "\n",
    "#  Let's parallelize this\n",
    "c = Client()\n",
    "dv = c[:]\n",
    "dv.block = False\n",
    "dv\n",
    "lview = c.load_balanced_view()"
   ]
  },
  {
   "cell_type": "code",
   "execution_count": null,
   "metadata": {
    "collapsed": false
   },
   "outputs": [],
   "source": [
    "# Parallel processing of meta tags (to speed up further computing)\n",
    "from tqdm import tqdm, tqdm_notebook\n",
    "\n",
    "results = []\n",
    "for company in tqdm(companies):\n",
    "    text = ''\n",
    "    path = company['path_to']\n",
    "    ar = lview.apply(combine_metas, path)\n",
    "#     ar = lview.apply(get_texts_for_domain, path, get_full_text, file_name='full_texts.txt', force_read=True)\n",
    "    results.append(ar)\n",
    "#     ar = lview.apply(get_texts_for_domain, path, get_meta_descriptions_text, file_name='descriptions.txt')\n",
    "#     results.append(ar)\n",
    "#     ar = lview.apply(get_texts_for_domain, path, get_meta_keywords_text, file_name='keywords.txt', force_read=True)\n",
    "#     results.append(ar)\n",
    "#     ar = lview.apply(get_texts_for_domain, path, get_titles_text, file_name='titles.txt')\n",
    "#     results.append(ar)\n",
    "#     ar = lview.apply(get_texts_for_domain, path, get_nav_text, file_name='nav_menu.txt', force_read=True)\n",
    "#     results.append(ar)\n",
    "\n",
    "for r in tqdm(results):\n",
    "    r.get()"
   ]
  },
  {
   "cell_type": "markdown",
   "metadata": {},
   "source": [
    "# Extract different features from websites"
   ]
  },
  {
   "cell_type": "code",
   "execution_count": null,
   "metadata": {
    "collapsed": false
   },
   "outputs": [],
   "source": [
    "from tqdm import tqdm\n",
    "import numpy as np\n",
    "from sklearn.utils import shuffle\n",
    "from ipyparallel import require\n",
    "\n",
    "\n",
    "companies = shuffle(companies)\n",
    "train_data = companies[:120000]\n",
    "target = []\n",
    "\n",
    "features = []\n",
    "\n",
    "@require(sites_for_domain, get_soup_from_html_gz)\n",
    "def get_features(path):\n",
    "    image_count = 0\n",
    "    sites = 0\n",
    "    form_count = 0\n",
    "    a_count = 0\n",
    "    link_count = 0\n",
    "    meta_count = 0\n",
    "    for site_path in sites_for_domain(path):\n",
    "        sites += 1\n",
    "        soup = get_soup_from_html_gz(site_path)\n",
    "        image_count += len(soup.find_all('img'))\n",
    "        form_count += len(soup.find_all('form'))\n",
    "        a_count += len(soup.find_all('a'))\n",
    "        link_count += len(soup.find_all('link'))\n",
    "        meta_count += len(soup.find_all('meta'))\n",
    "    avg_image_count = image_count / sites if sites else 0\n",
    "    return [sites, image_count, avg_image_count, form_count, link_count, meta_count]\n",
    "\n",
    "\n",
    "results = []\n",
    "for i, company in enumerate(tqdm(train_data)):\n",
    "#     if company['founded'] > 1800:\n",
    "    path = company['path_to']\n",
    "    ar = lview.apply_async(get_features, path)\n",
    "    results.append(ar)\n",
    "\n",
    "for i, company in enumerate(tqdm(train_data)):\n",
    "    try:\n",
    "        features.append(results[i].get())\n",
    "        age = 'young' if company['founded'] > 2007 else 'old'\n",
    "        target.append(age)\n",
    "#         target.append(company['founded'])\n",
    "    except Exception as e:\n",
    "        print(e)\n",
    "\n",
    "# Accuracy 25% for company_size\n",
    "# 26% for balanced classifier\n"
   ]
  },
  {
   "cell_type": "markdown",
   "metadata": {},
   "source": [
    "### Test with dummy estimators for baseline"
   ]
  },
  {
   "cell_type": "code",
   "execution_count": null,
   "metadata": {
    "collapsed": false
   },
   "outputs": [],
   "source": [
    "# Dummy\n",
    "from sklearn.dummy import DummyClassifier\n",
    "from sklearn.metrics import recall_score, accuracy_score, f1_score, precision_score\n",
    "\n",
    "dummy = DummyClassifier(strategy='constant', constant='young')\n",
    "dummy.fit(features, target)\n",
    "\n",
    "# scoring_neighbour(dummy, features_test, target_test)\n",
    "predicted = dummy.predict(features_test)\n",
    "print(recall_score(target_test, predicted, pos_label='young'))\n",
    "print(precision_score(target_test, predicted, pos_label='young'))\n",
    "print(f1_score(target_test, predicted, pos_label='young'))"
   ]
  },
  {
   "cell_type": "code",
   "execution_count": null,
   "metadata": {
    "collapsed": false
   },
   "outputs": [],
   "source": [
    "# Dummy #2\n",
    "from sklearn.dummy import DummyRegressor\n",
    "from sklearn.metrics import mean_absolute_error\n",
    "\n",
    "dummy = DummyRegressor()\n",
    "dummy.fit(features, target)\n",
    "mean_absolute_error(target_test, dummy.predict(features_test))"
   ]
  },
  {
   "cell_type": "markdown",
   "metadata": {},
   "source": [
    "### A real estimator this time"
   ]
  },
  {
   "cell_type": "code",
   "execution_count": null,
   "metadata": {
    "collapsed": false,
    "scrolled": true
   },
   "outputs": [],
   "source": [
    "# Try SGD Classifier\n",
    "from sklearn.linear_model import SGDRegressor, SGDClassifier\n",
    "from sklearn.preprocessing import StandardScaler\n",
    "scaler = StandardScaler()\n",
    "\n",
    "# clf = SGDRegressor(loss='huber', penalty='l2', alpha=0.001,\n",
    "#                                   epsilon=0.25)\n",
    "\n",
    "clf = SGDClassifier(loss='hinge', n_jobs=6, alpha=0.1, epsilon=1)\n",
    "\n",
    "# scaler.fit(features)\n",
    "# clf.fit(scaler.transform(features), [sizes_cont[c] for c in target])\n",
    "# clf.fit(scaler.transform(features), target)\n",
    "clf.fit(features, target)  # 27% - 62%\n",
    "# clf.fit(features, [sizes_small[c] for c in target])"
   ]
  },
  {
   "cell_type": "markdown",
   "metadata": {},
   "source": [
    "## Time to test"
   ]
  },
  {
   "cell_type": "code",
   "execution_count": null,
   "metadata": {
    "collapsed": false,
    "scrolled": true
   },
   "outputs": [],
   "source": [
    "texts = []\n",
    "# Test on 1000 samples\n",
    "test_companies = companies[-10000:]\n",
    "results = []\n",
    "\n",
    "# features_test = []\n",
    "target_test = []\n",
    "\n",
    "# for i, company in enumerate(tqdm(test_companies)):\n",
    "#     path = company['path_to']\n",
    "#     ar = lview.apply_async(get_features, path)\n",
    "#     results.append(ar)\n",
    "\n",
    "for i, company in enumerate(tqdm(test_companies)):\n",
    "    try:\n",
    "#         features_test.append(results[i].get())\n",
    "        age = 'young' if company['founded'] > 2007 else 'old'\n",
    "        target_test.append(age)\n",
    "#         target_test.append(company['company_size_clean'])\n",
    "#         target_test.append(company['founded'])\n",
    "    except Exception as e:\n",
    "        print(e)\n",
    "\n",
    "# score = clf.score(scaler.transform(features_test), [sizes_cont[c] for c in target_test])\n",
    "# score = clf.score(features_test, target_test)\n",
    "# score = rf.score(features_test, target_test)\n",
    "# score = clf.score(features_test, [sizes_small[c] for c in target_test])\n",
    "\n",
    "# Mean absolute error for founded - 21.38 years\n",
    "# F1 for young vs old - 32% (72% recall, 43% accuracy)\n",
    "# Mean absolute error for company size - 657.78"
   ]
  },
  {
   "cell_type": "code",
   "execution_count": null,
   "metadata": {
    "collapsed": false
   },
   "outputs": [],
   "source": [
    "from sklearn.metrics import classification_report\n",
    "\n",
    "# expected = [sizes_small[c] for c in target_test]\n",
    "expected = target_test\n",
    "predicted = clf.predict(features_test)\n",
    "# predicted = ['Not' if p > 0 else 'Food & Beverages' for p in predicted_prob]\n",
    "\n",
    "print(\"Classification report for classifier:\\n%s\\n\"\n",
    "      % classification_report(expected, predicted))\n"
   ]
  },
  {
   "cell_type": "code",
   "execution_count": null,
   "metadata": {
    "collapsed": false
   },
   "outputs": [],
   "source": [
    "from sklearn.metrics import recall_score, accuracy_score, f1_score, precision_score\n",
    "\n",
    "# predicted = clf.predict(scaler.transform(features_test))\n",
    "predicted = clf.predict(features_test)\n",
    "predicted = ['old' if a < -1.25 else 'young' for a in clf.decision_function(features_test)]\n",
    "\n",
    "print(recall_score(target_test, predicted, pos_label='young'))\n",
    "print(accuracy_score(target_test, predicted))\n",
    "print(f1_score(target_test, predicted, pos_label='young'))\n",
    "\n",
    "# sum([1 if a == 'old' else 0 for a in predicted])\n"
   ]
  },
  {
   "cell_type": "code",
   "execution_count": null,
   "metadata": {
    "collapsed": false
   },
   "outputs": [],
   "source": [
    "from sklearn.metrics import mean_absolute_error\n",
    "mean_absolute_error([sizes_cont[c] for c in target_test], clf.predict(scaler.transform(features_test)))"
   ]
  },
  {
   "cell_type": "code",
   "execution_count": null,
   "metadata": {
    "collapsed": false
   },
   "outputs": [],
   "source": [
    "# Error based on size of the company:\n",
    "\n",
    "for size in sizes:\n",
    "    current_target = []\n",
    "    current_features = []\n",
    "    for t, f in zip(target_test, features_test):\n",
    "        if t == size:\n",
    "            current_target.append(t)\n",
    "            current_features.append(f)\n",
    "    if not len(current_target):\n",
    "        print(size)\n",
    "        print('no samples')\n",
    "        continue\n",
    "    print(size)\n",
    "#     print(mean_absolute_error([sizes_cont[c] for c in current_target], clf.predict(scaler.transform(current_features))))\n",
    "    print(scoring_neighbour(clf, current_features, current_target))"
   ]
  },
  {
   "cell_type": "code",
   "execution_count": null,
   "metadata": {
    "collapsed": false
   },
   "outputs": [],
   "source": [
    "# Score regressor like we would score a classifier\n",
    "predicted_cont = grid.predict(scaler.transform(features_test))\n",
    "predicted = []\n",
    "for pc in predicted_cont:\n",
    "    p = '10,001+'\n",
    "    for s in inv_sizes:\n",
    "        if pc <= s[0]:\n",
    "            p = s[1]\n",
    "            break\n",
    "    predicted.append(p)\n",
    "\n",
    "correct = 0\n",
    "for actual, predict in zip(target_test, predicted):\n",
    "    actual_c = sizes.get(actual)\n",
    "    predict_c = sizes.get(predict)\n",
    "    if abs(predict_c - actual_c) < 2:\n",
    "        correct += 1\n",
    "\n",
    "correct/len(target_test)"
   ]
  },
  {
   "cell_type": "code",
   "execution_count": null,
   "metadata": {
    "collapsed": false
   },
   "outputs": [],
   "source": [
    "sizes = {\n",
    "    '1': 1,\n",
    "    '1-10': 2,\n",
    "    '11-50': 3,\n",
    "    '51-200': 4,\n",
    "    '201-500': 5,\n",
    "    '501-1000': 6,\n",
    "    '1001-5000': 7,\n",
    "    '5001-10,000': 8,\n",
    "    '10,001+': 9,\n",
    "}\n",
    "\n",
    "sizes_small = {\n",
    "    '1': 'small',\n",
    "    '1-10': 'small',\n",
    "    '11-50': 'small',\n",
    "    '51-200': 'medium',\n",
    "    '201-500': 'medium',\n",
    "    '501-1000': 'big',\n",
    "    '1001-5000': 'big',\n",
    "    '5001-10,000': 'big',\n",
    "    '10,001+': 'big',\n",
    "}\n",
    "\n",
    "sizes_cont = {\n",
    "    '1': 1,\n",
    "    '1-10': 5,\n",
    "    '11-50': 30,\n",
    "    '51-200': 125,\n",
    "    '201-500': 350,\n",
    "    '501-1000': 750,\n",
    "    '1001-5000': 3000,\n",
    "    '5001-10,000': 7500,\n",
    "    '10,001+': 10000,\n",
    "}\n",
    "\n",
    "inv_sizes_cont = {v: k for k, v in sizes_cont.items()}\n",
    "\n",
    "inv_sizes = [\n",
    "    (1, '1'),\n",
    "    (10, '1-10'),\n",
    "    (50, '11-50'),\n",
    "    (200, '51-200'),\n",
    "    (500, '201-500'),\n",
    "    (1000, '501-1000'),\n",
    "    (5000, '1001-5000'),\n",
    "    (10000, '5001-10,000')\n",
    "            ]"
   ]
  }
 ],
 "metadata": {
  "anaconda-cloud": {},
  "kernelspec": {
   "display_name": "Python [masters]",
   "language": "python",
   "name": "Python [masters]"
  },
  "language_info": {
   "codemirror_mode": {
    "name": "ipython",
    "version": 3
   },
   "file_extension": ".py",
   "mimetype": "text/x-python",
   "name": "python",
   "nbconvert_exporter": "python",
   "pygments_lexer": "ipython3",
   "version": "3.5.2"
  }
 },
 "nbformat": 4,
 "nbformat_minor": 0
}
