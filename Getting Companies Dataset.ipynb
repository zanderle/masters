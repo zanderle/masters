{
 "cells": [
  {
   "cell_type": "markdown",
   "metadata": {},
   "source": [
    "## Note\n",
    "This notebook has to be run from scraper django project in order to access correct models and data"
   ]
  },
  {
   "cell_type": "markdown",
   "metadata": {
    "collapsed": true
   },
   "source": [
    "## Data from database"
   ]
  },
  {
   "cell_type": "code",
   "execution_count": null,
   "metadata": {
    "collapsed": true
   },
   "outputs": [],
   "source": [
    "from scraper_app.models import Companies\n",
    "\n",
    "companies = Companies.objects.exclude(company_name=\"\").exclude(website=\"\").exclude(website__isnull=True).exclude(company_size=\"\").exclude(company_size=None).exclude(industry='').exclude(founded__isnull=True).distinct('website')\n",
    "values = companies.values('company_name', 'website', 'company_size', 'industry', 'founded', 'id')\n"
   ]
  },
  {
   "cell_type": "markdown",
   "metadata": {},
   "source": [
    "## Data from file"
   ]
  },
  {
   "cell_type": "code",
   "execution_count": null,
   "metadata": {
    "collapsed": true
   },
   "outputs": [],
   "source": [
    "import json\n",
    "\n",
    "with open('companies.json', 'r') as f:\n",
    "    values = json.load(f)"
   ]
  },
  {
   "cell_type": "markdown",
   "metadata": {},
   "source": [
    "## Cleaning"
   ]
  },
  {
   "cell_type": "markdown",
   "metadata": {},
   "source": [
    "### Bad URLs"
   ]
  },
  {
   "cell_type": "code",
   "execution_count": null,
   "metadata": {
    "collapsed": true
   },
   "outputs": [],
   "source": [
    "from django.core.validators import URLValidator\n",
    "\n",
    "url_validator = URLValidator()\n",
    "\n",
    "clean_values = []\n",
    "\n",
    "for value in values:\n",
    "    try:\n",
    "        url = value.get('website')\n",
    "        url_validator(url)\n",
    "        clean_values.append(value)\n",
    "    except Exception as e:\n",
    "        pass\n",
    "\n",
    "values = clean_values"
   ]
  },
  {
   "cell_type": "markdown",
   "metadata": {},
   "source": [
    "### Founded in the future"
   ]
  },
  {
   "cell_type": "code",
   "execution_count": null,
   "metadata": {
    "collapsed": true
   },
   "outputs": [],
   "source": [
    "clean_values = [v for v in values if v['founded'] < 2017]\n",
    "values = clean_values"
   ]
  },
  {
   "cell_type": "markdown",
   "metadata": {},
   "source": [
    "### Company size values"
   ]
  },
  {
   "cell_type": "code",
   "execution_count": null,
   "metadata": {
    "collapsed": true
   },
   "outputs": [],
   "source": [
    "for v in values:\n",
    "    v['company_size_clean'] = v['company_size'].split(' ')[0]\n",
    "\n",
    "size_map = {'Myself' : '1',\n",
    "            'Just': '1',\n",
    "            '1,001-5,000': '1001-5000',\n",
    "            '501-1,000':'501-1000',\n",
    "            '5,001-10,000': '5001-10,000',\n",
    "            '10,001': '10,001+',\n",
    "            '20-49\\xa0Employees' : '11-50',\n",
    "            '20-49' : '11-50',\n",
    "           }\n",
    "\n",
    "for v in values:\n",
    "    v['company_size_clean'] = size_map.get(v['company_size_clean'], v['company_size_clean'])\n"
   ]
  },
  {
   "cell_type": "markdown",
   "metadata": {},
   "source": [
    "## Data distribution"
   ]
  },
  {
   "cell_type": "code",
   "execution_count": null,
   "metadata": {
    "collapsed": false
   },
   "outputs": [],
   "source": [
    "from collections import Counter\n",
    "\n",
    "sizes = Counter(v['company_size_clean'] for v in values)\n",
    "ages = Counter(v['founded'] for v in values)\n",
    "industries = Counter(v['industry'] for v in values)"
   ]
  },
  {
   "cell_type": "markdown",
   "metadata": {},
   "source": [
    "### Use only the most common"
   ]
  },
  {
   "cell_type": "code",
   "execution_count": null,
   "metadata": {
    "collapsed": false
   },
   "outputs": [],
   "source": [
    "common_sizes = [s[0] for s in sizes.most_common(9)]\n",
    "clean_values = [v for v in values if v['company_size_clean'] in common_sizes]\n",
    "values = clean_values"
   ]
  },
  {
   "cell_type": "code",
   "execution_count": null,
   "metadata": {
    "collapsed": false
   },
   "outputs": [],
   "source": [
    "# For now just use industries that have at least 10 examples.\n",
    "# TODO the industries should be defined differently. This won't work be good enough probably\n",
    "common_industries = [s[0] for s in industries.most_common() if s[1] > 10]\n",
    "clean_values = [v for v in values if v['industry'] in common_industries]\n",
    "values = clean_values"
   ]
  },
  {
   "cell_type": "markdown",
   "metadata": {},
   "source": [
    "## Save values"
   ]
  },
  {
   "cell_type": "code",
   "execution_count": null,
   "metadata": {
    "collapsed": true
   },
   "outputs": [],
   "source": [
    "import json\n",
    "with open('companies.json', 'w') as f:\n",
    "    json.dump(values, f)"
   ]
  },
  {
   "cell_type": "code",
   "execution_count": null,
   "metadata": {
    "collapsed": true
   },
   "outputs": [],
   "source": []
  }
 ],
 "metadata": {
  "kernelspec": {
   "display_name": "Python 3",
   "language": "python",
   "name": "python3"
  },
  "language_info": {
   "codemirror_mode": {
    "name": "ipython",
    "version": 3
   },
   "file_extension": ".py",
   "mimetype": "text/x-python",
   "name": "python",
   "nbconvert_exporter": "python",
   "pygments_lexer": "ipython3",
   "version": "3.5.1"
  }
 },
 "nbformat": 4,
 "nbformat_minor": 0
}
