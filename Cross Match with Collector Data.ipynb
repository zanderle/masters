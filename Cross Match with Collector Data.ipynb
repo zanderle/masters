{
 "cells": [
  {
   "cell_type": "markdown",
   "metadata": {},
   "source": [
    "## Note\n",
    "Part of this Notebook expects to be run from email collector django project (to be able to access correct models and data) "
   ]
  },
  {
   "cell_type": "markdown",
   "metadata": {},
   "source": [
    "# Import dataset"
   ]
  },
  {
   "cell_type": "code",
   "execution_count": null,
   "metadata": {
    "collapsed": true
   },
   "outputs": [],
   "source": [
    "import json\n",
    "\n",
    "with open('companies.json', 'r') as f:\n",
    "    companies = json.load(f)"
   ]
  },
  {
   "cell_type": "markdown",
   "metadata": {
    "collapsed": true
   },
   "source": [
    "# Cross Match with Collector Data"
   ]
  },
  {
   "cell_type": "markdown",
   "metadata": {},
   "source": [
    "## First, from the database"
   ]
  },
  {
   "cell_type": "code",
   "execution_count": null,
   "metadata": {
    "collapsed": false
   },
   "outputs": [],
   "source": [
    "from collector.models import Domain\n",
    "\n",
    "Domain.objects.all().count()"
   ]
  },
  {
   "cell_type": "code",
   "execution_count": null,
   "metadata": {
    "collapsed": false
   },
   "outputs": [],
   "source": [
    "from common.domains.domain_resolver import extract_domain_from_url\n",
    "\n",
    "print('All companies: %s' % len(companies))\n",
    "\n",
    "cross_match = []\n",
    "\n",
    "total = len(companies)\n",
    "\n",
    "# The following is slow af, just don't need anything faster or more optimal atm\n",
    "for index, company in enumerate(companies):\n",
    "    website = extract_domain_from_url(company['website'])\n",
    "    domain = Domain.objects.filter(name=extract_domain_from_url(website))\n",
    "    if domain:\n",
    "        company['domain'] = domain[0].id\n",
    "        cross_match.append(company)\n",
    "    if not index % 10000:\n",
    "        print(\"%s%%\" % (index / total * 100))\n",
    "\n",
    "print('Cross match: %s' % len(cross_match))"
   ]
  },
  {
   "cell_type": "markdown",
   "metadata": {},
   "source": [
    "## Save the cross match to file"
   ]
  },
  {
   "cell_type": "code",
   "execution_count": null,
   "metadata": {
    "collapsed": false,
    "scrolled": true
   },
   "outputs": [],
   "source": [
    "import json\n",
    "\n",
    "with open('companies_cross.json', 'w') as f:\n",
    "    json.dump(cross_match, f)"
   ]
  },
  {
   "cell_type": "markdown",
   "metadata": {},
   "source": [
    "## Open cross match from file"
   ]
  },
  {
   "cell_type": "code",
   "execution_count": null,
   "metadata": {
    "collapsed": false
   },
   "outputs": [],
   "source": [
    "import json\n",
    "\n",
    "with open('companies_cross.json', 'r') as f:\n",
    "    cross_match = json.load(f)"
   ]
  },
  {
   "cell_type": "markdown",
   "metadata": {},
   "source": [
    "## Check crawled HTMLs"
   ]
  },
  {
   "cell_type": "code",
   "execution_count": null,
   "metadata": {
    "collapsed": false
   },
   "outputs": [],
   "source": [
    "import os\n",
    "\n",
    "from tqdm import tqdm\n",
    "\n",
    "from crawler.file_storage import hostname_to_path\n",
    "from common.domains.domain_resolver import extract_domain_from_url\n",
    "\n",
    "count = 0\n",
    "\n",
    "# The following is very slow (might take ~3h)\n",
    "# for company in tqdm(cross_match):\n",
    "for company in tqdm([c for c in cross_match if not c.get('path_to')]):  # Look at only the ones without path\n",
    "    website = company['website']\n",
    "    domain = extract_domain_from_url(website)\n",
    "    path_to = hostname_to_path(domain, root='/srv/data/email_collector/crawler')\n",
    "    # Check for .tar.gz\n",
    "    path_to += '.tar.gz'\n",
    "    if os.path.exists(path_to):\n",
    "        count += 1\n",
    "        company['path_to'] = path_to\n",
    "    else:\n",
    "        company['path_to'] = None"
   ]
  },
  {
   "cell_type": "code",
   "execution_count": null,
   "metadata": {
    "collapsed": false
   },
   "outputs": [],
   "source": [
    "import os\n",
    "from scandir import walk\n",
    "\n",
    "from tqdm import tqdm\n",
    "\n",
    "from crawler.file_storage import hostname_to_path\n",
    "\n",
    "count = 0\n",
    "root = '/srv/data/email_collector/crawler/'\n",
    "\n",
    "# First, let's create a dict of file paths to avoid doing 400k calls on filesystem\n",
    "file_path_cache = {}\n",
    "for (dirpath, sub_dirs, files) in tqdm(walk(root)):\n",
    "    parts = dirpath.split(root)\n",
    "    if len(parts) == 2:\n",
    "        file_path_cache[parts[1]] = {sub_dir: [] for sub_dir in sub_dirs}\n",
    "    elif len(parts) == 3:\n",
    "        file_path_cache[parts[1]][parts[2]] = [sub_dir for sub_dir in sub_dirs]\n",
    "    elif len(parts) > 3:\n",
    "        # Only go to this depth\n",
    "        break\n",
    "    else:\n",
    "        file_path_cache = {sub_dir: [] for sub_dir in sub_dirs}\n",
    "\n",
    "for company in tqdm(cross_match):\n",
    "    website = company['website']\n",
    "    domain = extract_domain_from_url(website)\n",
    "    path_to = hostname_to_path(domain, root=root)\n",
    "    parts = path_to.split(root)\n",
    "    parts = parts[0].split('/')\n",
    "    if len(parts) == 2:\n",
    "        if file_path_cache.get(parts[0], {}).get(parts[1], False):\n",
    "            count += 1\n",
    "            company['path_to'] = path_to\n",
    "            continue\n",
    "    if os.path.exists(path_to):\n",
    "        count += 1\n",
    "        company['path_to'] = path_to\n",
    "    else:\n",
    "        company['path_to'] = None"
   ]
  },
  {
   "cell_type": "code",
   "execution_count": null,
   "metadata": {
    "collapsed": false
   },
   "outputs": [],
   "source": [
    "len(cross_match)"
   ]
  },
  {
   "cell_type": "markdown",
   "metadata": {},
   "source": [
    "## Copy to local machine"
   ]
  },
  {
   "cell_type": "code",
   "execution_count": null,
   "metadata": {
    "collapsed": false
   },
   "outputs": [],
   "source": [
    "from shutil import copytree\n",
    "\n",
    "from tqdm import tqdm\n",
    "\n",
    "\n",
    "collector_root = '/srv/data/email_collector/crawler/'\n",
    "local_root = '/mnt/hugedrive/masters-data/'\n",
    "\n",
    "for company in tqdm([c for c in cross_match if c['path_to']]):\n",
    "    path = company['path_to']\n",
    "    new_path = path.replace(collector_root, local_root)\n",
    "    \n",
    "    try:\n",
    "        copytree(path, new_path)\n",
    "        company['path_to'] = new_path\n",
    "    except Exception as e:\n",
    "        print(str(e))\n",
    "\n",
    "    "
   ]
  },
  {
   "cell_type": "markdown",
   "metadata": {},
   "source": [
    "## Getting additional data from collector"
   ]
  },
  {
   "cell_type": "code",
   "execution_count": null,
   "metadata": {
    "collapsed": false
   },
   "outputs": [],
   "source": [
    "from tqdm import tqdm\n",
    "\n",
    "from collector.models import Site\n",
    "\n",
    "\n",
    "for company in tqdm([c for c in cross_match if c['path_to']]):\n",
    "    domain_id = company['domain']\n",
    "    site_count = Site.objects.filter(domain=domain_id).count()\n",
    "    company['site_count'] = site_count"
   ]
  },
  {
   "cell_type": "markdown",
   "metadata": {
    "collapsed": true
   },
   "source": [
    "## Count how many sites we have"
   ]
  },
  {
   "cell_type": "code",
   "execution_count": null,
   "metadata": {
    "collapsed": false
   },
   "outputs": [],
   "source": [
    "import os\n",
    "\n",
    "from scandir import walk\n",
    "from tqdm import tqdm\n",
    "\n",
    "\n",
    "for company in tqdm(cross_match):\n",
    "    path = company['path_to']\n",
    "    site_count = 0\n",
    "    if path:\n",
    "        for dirpathath, dirs, file_names in walk(path):\n",
    "            for file_name in file_names:\n",
    "                if file_name.endswith('.gz'):\n",
    "                    site_count += 1\n",
    "    company['current_site_count'] = site_count"
   ]
  },
  {
   "cell_type": "code",
   "execution_count": null,
   "metadata": {
    "collapsed": true
   },
   "outputs": [],
   "source": []
  }
 ],
 "metadata": {
  "anaconda-cloud": {},
  "kernelspec": {
   "display_name": "Python [masters]",
   "language": "python",
   "name": "Python [masters]"
  },
  "language_info": {
   "codemirror_mode": {
    "name": "ipython",
    "version": 3
   },
   "file_extension": ".py",
   "mimetype": "text/x-python",
   "name": "python",
   "nbconvert_exporter": "python",
   "pygments_lexer": "ipython3",
   "version": "3.5.2"
  }
 },
 "nbformat": 4,
 "nbformat_minor": 0
}
