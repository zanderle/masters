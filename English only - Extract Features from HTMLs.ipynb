{
 "cells": [
  {
   "cell_type": "markdown",
   "metadata": {
    "collapsed": true
   },
   "source": [
    "# Load dataset"
   ]
  },
  {
   "cell_type": "code",
   "execution_count": null,
   "metadata": {
    "collapsed": false
   },
   "outputs": [],
   "source": [
    "import json\n",
    "\n",
    "with open('companies_cross.json', 'r') as f:\n",
    "    companies = json.load(f)"
   ]
  },
  {
   "cell_type": "code",
   "execution_count": null,
   "metadata": {
    "collapsed": false
   },
   "outputs": [],
   "source": [
    "from collections import Counter\n",
    "\n",
    "# Let's use only companies that we currently have website of (at least some pages)\n",
    "companies = [c for c in companies if c.get('path_to')]\n",
    "\n",
    "# Let's also limit the number of sites (because this is not cleaned yet)\n",
    "companies = [c for c in companies if c.get('current_site_count', 0) < 100]\n",
    "\n",
    "# Let's use only well represented industries\n",
    "industries = Counter([c['industry'] for c in companies])\n",
    "companies = [c for c in companies if industries[c.get('industry')] > 500]"
   ]
  },
  {
   "cell_type": "markdown",
   "metadata": {},
   "source": [
    "## Some helper functions"
   ]
  },
  {
   "cell_type": "code",
   "execution_count": null,
   "metadata": {
    "collapsed": false
   },
   "outputs": [],
   "source": [
    "import os\n",
    "import gzip\n",
    "\n",
    "from scandir import walk\n",
    "from bs4 import BeautifulSoup\n",
    "\n",
    "from ipyparallel import require\n",
    "\n",
    "import logging\n",
    "\n",
    "# set root logger level\n",
    "root_logger = logging.getLogger()\n",
    "root_logger.setLevel(logging.DEBUG)\n",
    "\n",
    "# setup custom logger\n",
    "logger = logging.getLogger(__name__)\n",
    "handler = logging.FileHandler('extract_features.log')\n",
    "handler.setLevel(logging.INFO)\n",
    "logger.addHandler(handler)\n",
    "\n",
    "\n",
    "@require(BeautifulSoup)\n",
    "def get_soup_from_html_gz(path):\n",
    "    with gzip.open(path, 'rt') as f:  # TODO Apparently, not all files are utf-8 encoded? :o\n",
    "        soup = BeautifulSoup(f, 'html.parser')\n",
    "    return soup\n",
    "\n",
    "\n",
    "@require('os', save_texts_for_domain)\n",
    "def get_texts_for_domain(path, get_text, force_read=False, file_name=None):\n",
    "    file_name = file_name or 'full_texts.txt'\n",
    "    text_file = os.path.join(path, file_name)\n",
    "    if not os.path.exists(text_file) or force_read:\n",
    "        text = get_text(path)\n",
    "        text_file = save_texts_for_domain(text, path, file_name=file_name)\n",
    "    else:\n",
    "        with open(text_file, 'r') as f:\n",
    "            text = f.read()\n",
    "    return text, text_file\n",
    "\n",
    "\n",
    "@require(get_soup_from_html_gz, sites_for_domain)\n",
    "def get_full_text(path):\n",
    "    text = ''\n",
    "    for site_path in sites_for_domain(path):\n",
    "        body = get_soup_from_html_gz(site_path).body\n",
    "        if body:\n",
    "            text += body.get_text()\n",
    "            text += '\\n'\n",
    "    return text\n",
    "\n",
    "\n",
    "@require(get_soup_from_html_gz, sites_for_domain)\n",
    "def get_nav_text(path):\n",
    "    text = ''\n",
    "    for site_path in sites_for_domain(path):\n",
    "        soup = get_soup_from_html_gz(site_path)\n",
    "        text = get_nav_menu(soup)\n",
    "        if text:\n",
    "            text = ' '.join(text)\n",
    "            break\n",
    "        else:\n",
    "            text = ''\n",
    "    return text\n",
    "\n",
    "\n",
    "@require('os')\n",
    "def save_texts_for_domain(text, path, file_name=None):\n",
    "    file_name = file_name or 'full_texts.txt'\n",
    "    file_name = os.path.join(path, file_name)\n",
    "    with open(file_name, 'w') as f:\n",
    "        f.write(text)\n",
    "    return file_name\n",
    "\n",
    "\n",
    "@require(walk, 'os')\n",
    "def sites_for_domain(path):\n",
    "    for dirpath, dirs, file_names in walk(path):\n",
    "        for file_name in file_names:\n",
    "            if file_name.endswith('.gz'):\n",
    "                yield os.path.join(dirpath, file_name)\n",
    "\n",
    "                \n",
    "def get_nav_menu(soup):\n",
    "    if not soup.body:\n",
    "        return None\n",
    "    # We expect nav menu in header\n",
    "    # First look for possible headers\n",
    "    header = soup.body.find_all('header')\n",
    "    if not header:\n",
    "        header = soup.body.find_all({'class': ['header', 'menu']})\n",
    "    if not header:\n",
    "        header = soup.body.find_all(id='header')\n",
    "    \n",
    "    # Then look for nav menu in that header\n",
    "    if header:\n",
    "        header = header[0]\n",
    "        has_header = True\n",
    "    # If not found, look for a menu anywhere\n",
    "    else:\n",
    "        has_header = False\n",
    "        header = soup.body\n",
    "        \n",
    "    nav = header.find('nav')\n",
    "    if not nav:\n",
    "        nav = soup.body.find('nav')\n",
    "    if not nav:\n",
    "        nav = header.find(class_='nav')\n",
    "    if not nav:\n",
    "        nav = header.find(id='nav')\n",
    "    \n",
    "    if nav:\n",
    "        return [item for li in nav.find_all('li') for item in li.stripped_strings]  # TODO this doesn't deal with submenus\n",
    "    elif has_header:\n",
    "        return [item for li in header.find_all('li') for item in li.stripped_strings]\n",
    "    else:\n",
    "        return []\n",
    "\n",
    "    "
   ]
  },
  {
   "cell_type": "markdown",
   "metadata": {},
   "source": [
    "# Detect website language"
   ]
  },
  {
   "cell_type": "code",
   "execution_count": null,
   "metadata": {
    "collapsed": false
   },
   "outputs": [],
   "source": [
    "from ipyparallel import Client\n",
    "\n",
    "\n",
    "#  Let's parallelize this\n",
    "c = Client()\n",
    "dv = c[:]\n",
    "dv.block = False\n",
    "dv\n",
    "lview = c.load_balanced_view()"
   ]
  },
  {
   "cell_type": "code",
   "execution_count": null,
   "metadata": {
    "collapsed": false
   },
   "outputs": [],
   "source": [
    "from tqdm import tqdm, tqdm_notebook\n",
    "from langdetect import detect\n",
    "from ipyparallel import require\n",
    "\n",
    "\n",
    "@require(get_texts_for_domain, get_full_text, 'langdetect')\n",
    "def get_website_language(company):\n",
    "    try:\n",
    "        path = company['path_to']\n",
    "        website, file_path = get_texts_for_domain(path, get_full_text)\n",
    "        language = langdetect.detect(website)\n",
    "    except Exception as e:\n",
    "#         logger.debug(str(e))\n",
    "        print(e)\n",
    "\n",
    "    return language\n",
    "\n",
    "results = {}\n",
    "for i, company in enumerate(tqdm(companies)):\n",
    "#     if not company.get('website_lang'):\n",
    "    ar = lview.apply_async(get_website_language, company)\n",
    "    results[i] = ar\n",
    "    "
   ]
  },
  {
   "cell_type": "code",
   "execution_count": null,
   "metadata": {
    "collapsed": false
   },
   "outputs": [],
   "source": [
    "for i, company in enumerate(tqdm(companies)):\n",
    "    try:\n",
    "        language = results.get(i).get()\n",
    "    except Exception as e:\n",
    "        language = None\n",
    "    if language:\n",
    "        company['website_lang'] = language\n",
    "    else:\n",
    "        company['website_lang'] = 'NA'"
   ]
  },
  {
   "cell_type": "code",
   "execution_count": null,
   "metadata": {
    "collapsed": true
   },
   "outputs": [],
   "source": [
    "ar = lview.apply_async(get_website_language, companies[0])"
   ]
  },
  {
   "cell_type": "markdown",
   "metadata": {},
   "source": [
    "## Save dataset"
   ]
  },
  {
   "cell_type": "code",
   "execution_count": null,
   "metadata": {
    "collapsed": true
   },
   "outputs": [],
   "source": [
    "import json\n",
    "\n",
    "with open('companies_cross.json', 'w') as f:\n",
    "    json.dump(companies, f)"
   ]
  },
  {
   "cell_type": "markdown",
   "metadata": {},
   "source": [
    "# Select only english websites"
   ]
  },
  {
   "cell_type": "code",
   "execution_count": null,
   "metadata": {
    "collapsed": true
   },
   "outputs": [],
   "source": [
    "companies = [c for c in companies if c.get('website_lang') == 'en']"
   ]
  },
  {
   "cell_type": "markdown",
   "metadata": {},
   "source": [
    "# Get bag of words for websites"
   ]
  },
  {
   "cell_type": "code",
   "execution_count": null,
   "metadata": {
    "collapsed": false,
    "scrolled": true
   },
   "outputs": [],
   "source": [
    "from tqdm import tqdm, tqdm_notebook\n",
    "from sklearn.feature_extraction.text import HashingVectorizer, TfidfTransformer\n",
    "from sklearn.utils import shuffle\n",
    "\n",
    "\n",
    "# Let's shuffle the data first\n",
    "companies = shuffle(companies)\n",
    "train_data = companies[:100000]\n",
    "target = []\n",
    "\n",
    "texts = []\n",
    "hv = HashingVectorizer(non_negative=True, input='filename', stop_words='english', ngram_range=(1,2))\n",
    "for company in tqdm(train_data):\n",
    "    path = company['path_to']\n",
    "    try:\n",
    "        text, file_path = get_texts_for_domain(path, get_full_text, force_read=True)  # TODO remove force_read\n",
    "    \n",
    "        texts.append(file_path)\n",
    "        target.append(company['industry'])\n",
    "    except Exception as e:\n",
    "        print(e)\n",
    "        logger.error(str(e))\n",
    "\n",
    "try:\n",
    "    bag = hv.transform(texts)\n",
    "    del texts\n",
    "    tf_transformer = TfidfTransformer()\n",
    "    bag_train_tf = tf_transformer.fit_transform(bag)\n",
    "except Exception as e:\n",
    "    print(e)\n",
    "    logger.error(str(e))\n",
    "\n",
    "# Accuracy about 43%\n",
    "# English only - 48%\n",
    "# English only + stop words + ngrams - 49%\n"
   ]
  },
  {
   "cell_type": "code",
   "execution_count": null,
   "metadata": {
    "collapsed": true
   },
   "outputs": [],
   "source": [
    "tf_transformer = TfidfTransformer()\n",
    "bag_train_tf = tf_transformer.fit_transform(bag)"
   ]
  },
  {
   "cell_type": "markdown",
   "metadata": {},
   "source": [
    "## Get bag of words on nav menus"
   ]
  },
  {
   "cell_type": "code",
   "execution_count": null,
   "metadata": {
    "collapsed": false
   },
   "outputs": [],
   "source": [
    "from tqdm import tqdm\n",
    "from sklearn.feature_extraction.text import HashingVectorizer, TfidfTransformer\n",
    "from sklearn.utils import shuffle\n",
    "\n",
    "\n",
    "# Let's shuffle the data first\n",
    "companies = shuffle(companies)\n",
    "train_data = companies[:160000]\n",
    "target = []\n",
    "\n",
    "texts = []\n",
    "hv = HashingVectorizer(non_negative=True, input='filename')\n",
    "for company in tqdm(train_data):\n",
    "    text = ''\n",
    "    path = company['path_to']\n",
    "    try:\n",
    "        text, file_path = get_texts_for_domain(path, get_nav_text)\n",
    "        \n",
    "        if text:\n",
    "            target.append(company['industry'])\n",
    "            texts.append(file_path)\n",
    "    except Exception as e:\n",
    "        print(e)\n",
    "        logger.error(str(e))\n",
    "\n",
    "bag = hv.transform(texts)\n",
    "del texts\n",
    "\n",
    "tf_transformer = TfidfTransformer()\n",
    "bag_train_tf = tf_transformer.fit_transform(bag)\n",
    "\n",
    "# Accuracy about 61%\n"
   ]
  },
  {
   "cell_type": "code",
   "execution_count": null,
   "metadata": {
    "collapsed": false
   },
   "outputs": [],
   "source": [
    "# Try SGD Classifier\n",
    "from sklearn.linear_model import SGDClassifier\n",
    "\n",
    "clf = SGDClassifier(loss='hinge', n_iter=100, alpha=0.01, n_jobs=4)\n",
    "clf.fit(bag_train_tf, target)"
   ]
  },
  {
   "cell_type": "code",
   "execution_count": null,
   "metadata": {
    "collapsed": false
   },
   "outputs": [],
   "source": [
    "clf"
   ]
  },
  {
   "cell_type": "code",
   "execution_count": null,
   "metadata": {
    "collapsed": false
   },
   "outputs": [],
   "source": [
    "# Try naive bayes classifier\n",
    "from sklearn.naive_bayes import MultinomialNB\n",
    "\n",
    "clf = MultinomialNB().fit(bag_train_tf, target)"
   ]
  },
  {
   "cell_type": "code",
   "execution_count": null,
   "metadata": {
    "collapsed": false,
    "scrolled": true
   },
   "outputs": [],
   "source": [
    "texts = []\n",
    "# Test on 1000 samples\n",
    "test_companies = companies[-2000:]\n",
    "tested = []\n",
    "for company in tqdm(test_companies):\n",
    "    text = ''\n",
    "    path = company['path_to']\n",
    "    try:\n",
    "        text, file_path = get_texts_for_domain(path, get_full_text)\n",
    "\n",
    "        texts.append(file_path)\n",
    "        tested.append(company)\n",
    "    except Exception as e:\n",
    "        print(e)\n",
    "bag = hv.transform(texts)\n",
    "del texts\n",
    "\n",
    "bag_test_tf = tf_transformer.transform(bag)\n",
    "\n",
    "predicted = clf.predict(bag_test_tf)\n",
    "score = clf.score(bag_test_tf, [c['industry'] for c in tested])"
   ]
  },
  {
   "cell_type": "code",
   "execution_count": null,
   "metadata": {
    "collapsed": false
   },
   "outputs": [],
   "source": [
    "score"
   ]
  },
  {
   "cell_type": "code",
   "execution_count": null,
   "metadata": {
    "collapsed": false,
    "scrolled": false
   },
   "outputs": [],
   "source": [
    "correct = 0\n",
    "similar = {}\n",
    "for company, predict in zip(tested, predicted):\n",
    "    if company['industry'] == predict or company['industry'] in similar.get(predict, []) or predict in similar.get(company['industry'], []):\n",
    "        correct += 1\n",
    "    else:\n",
    "        print('%s - predicted %s' % (company['industry'], predict))\n",
    "#         add = input('Add? yN ')\n",
    "        add = 'n'\n",
    "        if add == 'y':\n",
    "            s = similar.get(company['industry'], [])\n",
    "            s.append(predict)\n",
    "            similar[company['industry']] = s\n",
    "            \n",
    "            s = similar.get(predict, [])\n",
    "            s.append(company['industry'])\n",
    "            similar[predict] = s\n",
    "            correct += 1\n",
    "\n",
    "correct"
   ]
  }
 ],
 "metadata": {
  "anaconda-cloud": {},
  "kernelspec": {
   "display_name": "Python [masters]",
   "language": "python",
   "name": "Python [masters]"
  },
  "language_info": {
   "codemirror_mode": {
    "name": "ipython",
    "version": 3
   },
   "file_extension": ".py",
   "mimetype": "text/x-python",
   "name": "python",
   "nbconvert_exporter": "python",
   "pygments_lexer": "ipython3",
   "version": "3.5.2"
  }
 },
 "nbformat": 4,
 "nbformat_minor": 0
}
